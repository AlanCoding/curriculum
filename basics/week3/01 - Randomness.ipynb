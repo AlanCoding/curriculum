{
 "cells": [
  {
   "cell_type": "code",
   "execution_count": null,
   "metadata": {
    "collapsed": false
   },
   "outputs": [],
   "source": [
    "from bokeh.plotting import figure, show, output_notebook\n",
    "from bokeh.charts import Histogram\n",
    "import random"
   ]
  },
  {
   "cell_type": "code",
   "execution_count": null,
   "metadata": {
    "collapsed": false
   },
   "outputs": [],
   "source": [
    "output_notebook()"
   ]
  },
  {
   "cell_type": "markdown",
   "metadata": {},
   "source": [
    "The `random` module gives us lots of ways to get and use random numbers. Actually, it uses psuedo-random numbers. Without an external source of randomness, a computer cannot generate real random numbers.\n",
    "\n",
    "Let's create our own random number generator."
   ]
  },
  {
   "cell_type": "code",
   "execution_count": null,
   "metadata": {
    "collapsed": false
   },
   "outputs": [],
   "source": [
    "def rng(seed=1):\n",
    "    \"\"\"This is a very simple psuedo-random number generator.\"\"\"\n",
    "    def rand():\n",
    "        nonlocal seed\n",
    "        seed = (7 * seed) % 101\n",
    "        return (seed - 1) % 10 + 1\n",
    "\n",
    "    return rand"
   ]
  },
  {
   "cell_type": "code",
   "execution_count": null,
   "metadata": {
    "collapsed": false
   },
   "outputs": [],
   "source": [
    "rand = rng(892)"
   ]
  },
  {
   "cell_type": "code",
   "execution_count": null,
   "metadata": {
    "collapsed": false
   },
   "outputs": [],
   "source": [
    "print(rand())\n",
    "print(rand())\n",
    "print(rand())"
   ]
  },
  {
   "cell_type": "markdown",
   "metadata": {},
   "source": [
    "That seemed to work. What happens if we run it 100 times?"
   ]
  },
  {
   "cell_type": "code",
   "execution_count": null,
   "metadata": {
    "collapsed": false
   },
   "outputs": [],
   "source": [
    "nums = [rand() for _ in range(100)]"
   ]
  },
  {
   "cell_type": "code",
   "execution_count": null,
   "metadata": {
    "collapsed": false
   },
   "outputs": [],
   "source": [
    "hist = Histogram(nums, bins=10, notebook=True, tools=False, title=\"My RNG\", ylabel=\"frequency\", xlabel='distributions')\n",
    "hist.height(400).show()"
   ]
  },
  {
   "cell_type": "markdown",
   "metadata": {},
   "source": [
    "We got each number the same amount of times, which isn't very random. We'd expect that they'd be close, but not all the same.\n",
    "\n",
    "Let's look at a random number generator implementation from BSD Unix. This is not a very good RNG -- it's too predictable -- but better than ours."
   ]
  },
  {
   "cell_type": "code",
   "execution_count": null,
   "metadata": {
    "collapsed": false
   },
   "outputs": [],
   "source": [
    "def bsd_rand(seed):\n",
    "   def rand():\n",
    "      nonlocal seed\n",
    "      seed = (1103515245*seed + 12345) & 0x7fffffff\n",
    "      return seed / 2147483647\n",
    "   return rand"
   ]
  },
  {
   "cell_type": "code",
   "execution_count": null,
   "metadata": {
    "collapsed": false
   },
   "outputs": [],
   "source": [
    "rand = bsd_rand(1)\n",
    "nums = [rand() for _ in range(10000)]\n",
    "hist = Histogram(nums, bins=30, notebook=True, tools=False, title=\"bsd_rand\", ylabel=\"frequency\", xlabel='distributions')\n",
    "hist.height(400).show()"
   ]
  },
  {
   "cell_type": "markdown",
   "metadata": {},
   "source": [
    "# The random module"
   ]
  },
  {
   "cell_type": "markdown",
   "metadata": {},
   "source": [
    "Everything in the `random` module is built off of `random.random`. This is psuedo-random, as you can see here."
   ]
  },
  {
   "cell_type": "code",
   "execution_count": null,
   "metadata": {
    "collapsed": false
   },
   "outputs": [],
   "source": [
    "random.seed(1)\n",
    "[random.random() for _ in range(5)]"
   ]
  },
  {
   "cell_type": "code",
   "execution_count": null,
   "metadata": {
    "collapsed": false
   },
   "outputs": [],
   "source": [
    "random.seed(1)\n",
    "[random.random() for _ in range(5)]"
   ]
  },
  {
   "cell_type": "markdown",
   "metadata": {},
   "source": [
    "This is a better random number generator than ours, of course, so the numbers generated will not be 100% evenly distributed."
   ]
  },
  {
   "cell_type": "code",
   "execution_count": null,
   "metadata": {
    "collapsed": false
   },
   "outputs": [],
   "source": [
    "nums = [random.random() for _ in range(100)]\n",
    "hist = Histogram(nums, bins=30, notebook=True, tools=False, \n",
    "                 title=\"random.random\", ylabel=\"frequency\", xlabel='distributions')\n",
    "hist.height(400).show()"
   ]
  },
  {
   "cell_type": "markdown",
   "metadata": {},
   "source": [
    "## Other distributions"
   ]
  },
  {
   "cell_type": "code",
   "execution_count": null,
   "metadata": {
    "collapsed": false
   },
   "outputs": [],
   "source": [
    "nums = [random.triangular(0, 1) for _ in range(10000)]\n",
    "hist = Histogram(nums, bins=30, notebook=True, tools=False, \n",
    "                 title=\"random.triangular\", ylabel=\"frequency\", xlabel='distributions')\n",
    "hist.height(400).show()"
   ]
  },
  {
   "cell_type": "code",
   "execution_count": null,
   "metadata": {
    "collapsed": false
   },
   "outputs": [],
   "source": [
    "nums = [random.gauss(0.5, 0.5) for _ in range(10000)]\n",
    "hist = Histogram(nums, bins=30, notebook=True, tools=False, \n",
    "                 title=\"random.gauss\", ylabel=\"frequency\", xlabel='distributions')\n",
    "hist.height(400).show()"
   ]
  },
  {
   "cell_type": "code",
   "execution_count": null,
   "metadata": {
    "collapsed": false
   },
   "outputs": [],
   "source": [
    "nums = [random.expovariate(2) for _ in range(10000)]\n",
    "hist = Histogram(nums, bins=30, notebook=True, tools=False, \n",
    "                 title=\"random.expovariate\", ylabel=\"frequency\", xlabel='distributions')\n",
    "hist.height(400).show()"
   ]
  },
  {
   "cell_type": "code",
   "execution_count": null,
   "metadata": {
    "collapsed": false
   },
   "outputs": [],
   "source": []
  }
 ],
 "metadata": {
  "kernelspec": {
   "display_name": "Python 3",
   "language": "python",
   "name": "python3"
  },
  "language_info": {
   "codemirror_mode": {
    "name": "ipython",
    "version": 3
   },
   "file_extension": ".py",
   "mimetype": "text/x-python",
   "name": "python",
   "nbconvert_exporter": "python",
   "pygments_lexer": "ipython3",
   "version": "3.4.3"
  }
 },
 "nbformat": 4,
 "nbformat_minor": 0
}
