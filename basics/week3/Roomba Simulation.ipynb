{
 "cells": [
  {
   "cell_type": "markdown",
   "metadata": {},
   "source": [
    "**NOTE**: This is a recording of a previous live coding of the Roomba simulation. It is suggested you start from scratch for your class."
   ]
  },
  {
   "cell_type": "code",
   "execution_count": null,
   "metadata": {
    "collapsed": false
   },
   "outputs": [],
   "source": [
    "import math\n",
    "import random\n",
    "import matplotlib.pyplot as plt\n",
    "import statistics as st"
   ]
  },
  {
   "cell_type": "code",
   "execution_count": null,
   "metadata": {
    "collapsed": false
   },
   "outputs": [],
   "source": [
    "%matplotlib inline"
   ]
  },
  {
   "cell_type": "code",
   "execution_count": null,
   "metadata": {
    "collapsed": false
   },
   "outputs": [],
   "source": [
    "def angular_motion(degrees, speed=1):\n",
    "    radians = math.radians(degrees)\n",
    "    x_motion = math.cos(radians) * speed\n",
    "    y_motion = math.sin(radians) * speed\n",
    "    return x_motion, y_motion"
   ]
  },
  {
   "cell_type": "code",
   "execution_count": null,
   "metadata": {
    "collapsed": false
   },
   "outputs": [],
   "source": [
    "assumed = math.sqrt(0.5)\n",
    "x, y = angular_motion(45)\n",
    "print(assumed)\n",
    "print(x)\n",
    "print(y)"
   ]
  },
  {
   "cell_type": "code",
   "execution_count": null,
   "metadata": {
    "collapsed": false
   },
   "outputs": [],
   "source": [
    "angular_motion(135)"
   ]
  },
  {
   "cell_type": "code",
   "execution_count": null,
   "metadata": {
    "collapsed": false
   },
   "outputs": [],
   "source": [
    "class Room:\n",
    "    \"\"\"\n",
    "    Responsibilities:\n",
    "    - width\n",
    "    - height\n",
    "    - keeps track of what squares are clean\n",
    "    \"\"\"\n",
    "    \n",
    "    def __init__(self, width, height):\n",
    "        self.width = width\n",
    "        self.height = height\n",
    "        self.clean_squares = set()\n",
    "        \n",
    "    def reset(self):\n",
    "        self.clean_squares = set()\n",
    "        \n",
    "    def random_location(self):\n",
    "        x = random.random() * self.width\n",
    "        y = random.random() * self.height\n",
    "        return x, y\n",
    "    \n",
    "    def total_squares(self):\n",
    "        return self.width * self.height\n",
    "    \n",
    "    def in_room(self, x, y):\n",
    "        \"\"\"Check to see if coordinate is in the room.\"\"\"\n",
    "        return 0 <= x < self.width and 0 <= y < self.height\n",
    "    \n",
    "    def clean_square(self, x, y):\n",
    "        if self.in_room(x, y):\n",
    "            self.clean_squares.add((x, y))\n",
    "    \n",
    "    def percent_clean(self):\n",
    "        return len(self.clean_squares) / self.total_squares()"
   ]
  },
  {
   "cell_type": "code",
   "execution_count": null,
   "metadata": {
    "collapsed": false
   },
   "outputs": [],
   "source": [
    "room = Room(2, 2)\n",
    "room.clean_square(0, 0)\n",
    "print(room.percent_clean())\n",
    "room.clean_square(0, 0)\n",
    "print(room.percent_clean())\n",
    "room.clean_square(0, 1)\n",
    "print(room.percent_clean())\n",
    "room.clean_square(5, 4)\n",
    "print(room.percent_clean())"
   ]
  },
  {
   "cell_type": "code",
   "execution_count": null,
   "metadata": {
    "collapsed": false
   },
   "outputs": [],
   "source": [
    "class Roomba:\n",
    "    \"\"\"\n",
    "    Responsibilities:\n",
    "    \n",
    "    - know its current angle\n",
    "    - respond to hitting a wall\n",
    "    - give its relative x and y movement\n",
    "    - know its speed\n",
    "    \"\"\"\n",
    "    \n",
    "    def __init__(self, speed=1):\n",
    "        self.angle = None\n",
    "        self.speed = speed\n",
    "        \n",
    "    def move(self):\n",
    "        \"\"\"On trigger, return relative x and y movement.\"\"\"\n",
    "        if self.angle is not None:\n",
    "            return angular_motion(self.angle, self.speed)\n",
    "        \n",
    "    def update_angle(self, angle):\n",
    "        self.angle += angle\n",
    "        self.angle %= 360\n",
    "    \n",
    "    def collide(self):\n",
    "        \"\"\"On trigger, choose a new angle.\"\"\"\n",
    "        self.angle += random.randint(90, 270)\n",
    "        self.angle %= 360"
   ]
  },
  {
   "cell_type": "code",
   "execution_count": null,
   "metadata": {
    "collapsed": false
   },
   "outputs": [],
   "source": [
    "class Simulation:\n",
    "    \"\"\"\n",
    "    Responsibilities:\n",
    "    - placing the Roomba\n",
    "    - asking Roomba where it's moving\n",
    "    - updating the room\n",
    "    - iterating over turns\n",
    "    - reporting data\n",
    "    \n",
    "    Collaborators:\n",
    "    - Room\n",
    "    - Roomba\n",
    "    \"\"\"\n",
    "    \n",
    "    def __init__(self, room, roomba):\n",
    "        self.room = room\n",
    "        self.roomba = roomba\n",
    "        self.iterations = 0\n",
    "        \n",
    "        initial_x, initial_y = self.room.random_location()\n",
    "        initial_angle = random.randint(0, 359)\n",
    "\n",
    "        self.current_x = initial_x\n",
    "        self.current_y = initial_y\n",
    "        self.roomba.angle = initial_angle\n",
    "        \n",
    "    \n",
    "    def update_roomba_and_check_for_hit(self, x_move, y_move):\n",
    "        def constrain(min, max, actual):\n",
    "            if actual < min:\n",
    "                return min, True\n",
    "            elif actual > max:\n",
    "                return max, True\n",
    "            else:\n",
    "                return actual, False\n",
    "        \n",
    "        tolerance = 0.1\n",
    "        min_x, min_y = tolerance, tolerance\n",
    "        max_x, max_y = self.room.width - tolerance, self.room.height - tolerance\n",
    "        \n",
    "        x, hit_x = constrain(min_x, max_x, self.current_x + x_move)\n",
    "        y, hit_y = constrain(min_y, max_y, self.current_y + y_move)\n",
    "        \n",
    "        self.current_x = x\n",
    "        self.current_y = y\n",
    "        \n",
    "        return hit_x or hit_y\n",
    "    \n",
    "    \n",
    "    def iterate(self):\n",
    "        did_hit = self.update_roomba_and_check_for_hit(*self.roomba.move())\n",
    "        if did_hit:\n",
    "            self.roomba.collide()\n",
    "        self.room.clean_square(int(self.current_x), int(self.current_y))\n",
    "        self.iterations += 1\n",
    "        \n",
    "    def report(self):\n",
    "        return self.iterations, self.room.percent_clean()\n",
    "        "
   ]
  },
  {
   "cell_type": "code",
   "execution_count": null,
   "metadata": {
    "collapsed": false
   },
   "outputs": [],
   "source": [
    "room = Room(15, 20)\n",
    "roomba = Roomba()\n",
    "simulation = Simulation(room, roomba)"
   ]
  },
  {
   "cell_type": "code",
   "execution_count": null,
   "metadata": {
    "collapsed": false
   },
   "outputs": [],
   "source": [
    "for _ in range(20):\n",
    "    simulation.iterate()\n",
    "    print(simulation.report())"
   ]
  },
  {
   "cell_type": "code",
   "execution_count": null,
   "metadata": {
    "collapsed": false
   },
   "outputs": [],
   "source": [
    "simulation.room.clean_squares"
   ]
  },
  {
   "cell_type": "code",
   "execution_count": null,
   "metadata": {
    "collapsed": false
   },
   "outputs": [],
   "source": [
    "room = Room(15, 20)\n",
    "roomba = Roomba()\n",
    "simulation = Simulation(room, roomba)\n",
    "\n",
    "percent_clean = 0\n",
    "while percent_clean < 0.9:\n",
    "    simulation.iterate()\n",
    "    turn, percent_clean = simulation.report()\n",
    "    \n",
    "print(turn)"
   ]
  },
  {
   "cell_type": "code",
   "execution_count": null,
   "metadata": {
    "collapsed": false
   },
   "outputs": [],
   "source": [
    "def run_simulation_by_percentage(room, roomba):\n",
    "    simulation = Simulation(room, roomba)\n",
    "    \n",
    "    percent_clean = 0\n",
    "    \n",
    "    while percent_clean < 0.5:\n",
    "       simulation.iterate()\n",
    "       turn, percent_clean = simulation.report() \n",
    "        \n",
    "    half_clean = turn\n",
    "    \n",
    "    while percent_clean < 0.9:\n",
    "       simulation.iterate()\n",
    "       turn, percent_clean = simulation.report() \n",
    "        \n",
    "    almost_clean = turn\n",
    "    \n",
    "    while percent_clean < 1.0:\n",
    "       simulation.iterate()\n",
    "       turn, percent_clean = simulation.report() \n",
    "    \n",
    "    clean = turn\n",
    "    \n",
    "    room.reset()\n",
    "    \n",
    "    return half_clean, almost_clean, clean"
   ]
  },
  {
   "cell_type": "code",
   "execution_count": null,
   "metadata": {
    "collapsed": false
   },
   "outputs": [],
   "source": [
    "run_simulation_by_percentage(Room(15, 20), Roomba())"
   ]
  },
  {
   "cell_type": "code",
   "execution_count": null,
   "metadata": {
    "collapsed": false
   },
   "outputs": [],
   "source": [
    "def run_simulation_by_percentage_trials(room, roomba, trials=100):\n",
    "    trial_results = [run_simulation_by_percentage(room, roomba) for _ in range(trials)]\n",
    "    return trial_results"
   ]
  },
  {
   "cell_type": "code",
   "execution_count": null,
   "metadata": {
    "collapsed": false
   },
   "outputs": [],
   "source": [
    "trial_results = run_simulation_by_percentage_trials(Room(15, 20), Roomba(), 100)\n",
    "results_to_plot = list(zip(*trial_results))\n",
    "plt.boxplot(results_to_plot)\n",
    "plt.xticks(range(1, 4), [\"50%\", \"90%\", \"100%\"])\n",
    "# plt.yscale(\"log\")\n",
    "plt.show()"
   ]
  },
  {
   "cell_type": "code",
   "execution_count": null,
   "metadata": {
    "collapsed": false
   },
   "outputs": [],
   "source": [
    "results_to_plot = list(zip(*trial_results))\n",
    "plt.hist(results_to_plot[0], bins=20)\n",
    "plt.title(\"Time to 50%\")\n",
    "plt.show()"
   ]
  },
  {
   "cell_type": "code",
   "execution_count": null,
   "metadata": {
    "collapsed": false
   },
   "outputs": [],
   "source": [
    "plt.hist(results_to_plot[1], bins=20)\n",
    "plt.title(\"Time to 90%\")\n",
    "plt.show()"
   ]
  },
  {
   "cell_type": "code",
   "execution_count": null,
   "metadata": {
    "collapsed": false
   },
   "outputs": [],
   "source": [
    "print(st.mean(results_to_plot[1]))\n",
    "print(st.pstdev(results_to_plot[1]))"
   ]
  },
  {
   "cell_type": "code",
   "execution_count": null,
   "metadata": {
    "collapsed": false
   },
   "outputs": [],
   "source": [
    "original = [st.mean(results) for results in results_to_plot]"
   ]
  },
  {
   "cell_type": "code",
   "execution_count": null,
   "metadata": {
    "collapsed": false
   },
   "outputs": [],
   "source": [
    "plt.plot([50, 90, 100], original, label=\"Number of turns\")\n",
    "plt.legend()\n",
    "plt.show()"
   ]
  },
  {
   "cell_type": "code",
   "execution_count": null,
   "metadata": {
    "collapsed": false
   },
   "outputs": [],
   "source": []
  }
 ],
 "metadata": {
  "kernelspec": {
   "display_name": "Python 3",
   "language": "python",
   "name": "python3"
  },
  "language_info": {
   "codemirror_mode": {
    "name": "ipython",
    "version": 3
   },
   "file_extension": ".py",
   "mimetype": "text/x-python",
   "name": "python",
   "nbconvert_exporter": "python",
   "pygments_lexer": "ipython3",
   "version": "3.4.3"
  }
 },
 "nbformat": 4,
 "nbformat_minor": 0
}
