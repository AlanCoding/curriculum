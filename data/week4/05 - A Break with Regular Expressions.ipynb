{
 "cells": [
  {
   "cell_type": "markdown",
   "metadata": {},
   "source": [
    "Regular expressions (regexes) are, when you understand them, one of the most fun things you can work with in programming. They are a mini-language for matching text.\n",
    "\n",
    "The first thing to know is that non-special characters match themselves in text."
   ]
  },
  {
   "cell_type": "code",
   "execution_count": null,
   "metadata": {
    "collapsed": true
   },
   "outputs": [],
   "source": [
    "import re\n",
    "help(re.search)"
   ]
  },
  {
   "cell_type": "code",
   "execution_count": null,
   "metadata": {
    "collapsed": false
   },
   "outputs": [],
   "source": [
    "re.search(r\"e\", \"hello\")"
   ]
  },
  {
   "cell_type": "code",
   "execution_count": null,
   "metadata": {
    "collapsed": false
   },
   "outputs": [],
   "source": [
    "re.search(r\"l\", \"hello\")"
   ]
  },
  {
   "cell_type": "markdown",
   "metadata": {},
   "source": [
    "You can match more than one letter, of course."
   ]
  },
  {
   "cell_type": "code",
   "execution_count": null,
   "metadata": {
    "collapsed": false
   },
   "outputs": [],
   "source": [
    "sentence = (\"A symmetry of a pattern is, loosely speaking, a way of transforming \"\n",
    "            \"the pattern so that the pattern looks exactly the same after the \"\n",
    "            \"transformation.\")"
   ]
  },
  {
   "cell_type": "code",
   "execution_count": null,
   "metadata": {
    "collapsed": false
   },
   "outputs": [],
   "source": [
    "re.search(r\"pattern\", sentence)"
   ]
  },
  {
   "cell_type": "markdown",
   "metadata": {},
   "source": [
    "`re.search` gives us a match object that has many methods, but only finds the first match.\n",
    "\n",
    "`re.findall` gives us a list of all matches."
   ]
  },
  {
   "cell_type": "code",
   "execution_count": null,
   "metadata": {
    "collapsed": false
   },
   "outputs": [],
   "source": [
    "re.findall(r\"pattern\", sentence)"
   ]
  },
  {
   "cell_type": "code",
   "execution_count": null,
   "metadata": {
    "collapsed": false
   },
   "outputs": [],
   "source": [
    "re.findall(r\"at\", sentence)"
   ]
  },
  {
   "cell_type": "markdown",
   "metadata": {},
   "source": [
    "## Matching anything\n",
    "\n",
    "The `.` (period) character matches anything (except a newline). We can use this to find strings that match wildcards, like \"a double-o followed by any character.\""
   ]
  },
  {
   "cell_type": "code",
   "execution_count": null,
   "metadata": {
    "collapsed": false
   },
   "outputs": [],
   "source": [
    "re.search(r\"oo.\", sentence)"
   ]
  },
  {
   "cell_type": "markdown",
   "metadata": {},
   "source": [
    "See how the match is \"oos\"."
   ]
  },
  {
   "cell_type": "code",
   "execution_count": null,
   "metadata": {
    "collapsed": false
   },
   "outputs": [],
   "source": [
    "re.findall(r\".at.\", sentence)"
   ]
  },
  {
   "cell_type": "code",
   "execution_count": null,
   "metadata": {
    "collapsed": false
   },
   "outputs": [],
   "source": [
    "re.search(r\"\\.\", sentence)"
   ]
  },
  {
   "cell_type": "code",
   "execution_count": null,
   "metadata": {
    "collapsed": false
   },
   "outputs": [],
   "source": [
    "# Case-insensitive matching\n",
    "print(re.findall(r\"h\", \"Hello there! How many I help you?\"))\n",
    "print(re.findall(r\"h\", \"Hello there! How many I help you?\", re.IGNORECASE))"
   ]
  },
  {
   "cell_type": "markdown",
   "metadata": {},
   "source": [
    "## What can I do with a match object?"
   ]
  },
  {
   "cell_type": "code",
   "execution_count": null,
   "metadata": {
    "collapsed": false
   },
   "outputs": [],
   "source": [
    "match = re.search(\"pattern\", sentence)\n",
    "help(match)"
   ]
  },
  {
   "cell_type": "markdown",
   "metadata": {},
   "source": [
    "## Start and end matches\n",
    "\n",
    "You often want to match something if and only if it is at the beginning or end of a string.\n",
    "\n",
    "`^` matches the beginning of a string.\n",
    "\n",
    "`$` matches the end of a string."
   ]
  },
  {
   "cell_type": "code",
   "execution_count": null,
   "metadata": {
    "collapsed": false
   },
   "outputs": [],
   "source": [
    "re.search(r\"^A \", sentence)"
   ]
  },
  {
   "cell_type": "code",
   "execution_count": null,
   "metadata": {
    "collapsed": false
   },
   "outputs": [],
   "source": [
    "print(re.search(r\"^pattern\", sentence))"
   ]
  },
  {
   "cell_type": "markdown",
   "metadata": {},
   "source": [
    "If I want to match the end of this string, I have to match a period."
   ]
  },
  {
   "cell_type": "code",
   "execution_count": null,
   "metadata": {
    "collapsed": false
   },
   "outputs": [],
   "source": [
    "re.search(r\"n.$\", sentence)"
   ]
  },
  {
   "cell_type": "code",
   "execution_count": null,
   "metadata": {
    "collapsed": false
   },
   "outputs": [],
   "source": [
    "re.search(r\"n.$\", \"I like singing\")"
   ]
  },
  {
   "cell_type": "markdown",
   "metadata": {},
   "source": [
    "What happened here? `.` matches anything, so I have to _escape_ it to match just a period."
   ]
  },
  {
   "cell_type": "code",
   "execution_count": null,
   "metadata": {
    "collapsed": false
   },
   "outputs": [],
   "source": [
    "re.search(r\"n\\.$\", sentence)"
   ]
  },
  {
   "cell_type": "code",
   "execution_count": null,
   "metadata": {
    "collapsed": false
   },
   "outputs": [],
   "source": [
    "re.search(r\"n\\.$\", \"I like singing\")"
   ]
  },
  {
   "cell_type": "markdown",
   "metadata": {},
   "source": [
    "## Matching multiples\n",
    "\n",
    "Often, you want to match a multiple amount of something. Whether it's 0 or more, 1 or more, 0 or 1, or something else, we've got you covered.\n",
    "\n",
    "* `*` matches 0 or more.\n",
    "* `+` matches 1 or more.\n",
    "* `?` matches 0 or 1.\n",
    "* `{n}` matches `n` repetitions.\n",
    "* `{m,n}` matches `m` to `n` repetitions. You can leave out `m` or `n` to match 0 to `n`, or `m` to infinity."
   ]
  },
  {
   "cell_type": "code",
   "execution_count": null,
   "metadata": {
    "collapsed": false
   },
   "outputs": [],
   "source": [
    "re.findall(r\"o+\", sentence)"
   ]
  },
  {
   "cell_type": "code",
   "execution_count": null,
   "metadata": {
    "collapsed": false
   },
   "outputs": [],
   "source": [
    "re.findall(r\"ng? \", sentence)"
   ]
  },
  {
   "cell_type": "code",
   "execution_count": null,
   "metadata": {
    "collapsed": false
   },
   "outputs": [],
   "source": [
    "no_a = \"b\"\n",
    "one_a = \"ab\"\n",
    "lots_of_a = \"aaaaaaaaaaaab\""
   ]
  },
  {
   "cell_type": "code",
   "execution_count": null,
   "metadata": {
    "collapsed": false
   },
   "outputs": [],
   "source": [
    "print(re.search(r\"a*b\", no_a))\n",
    "print(re.search(r\"a*b\", one_a))\n",
    "print(re.search(r\"a*b\", lots_of_a))"
   ]
  },
  {
   "cell_type": "code",
   "execution_count": null,
   "metadata": {
    "collapsed": false
   },
   "outputs": [],
   "source": [
    "print(re.search(r\"a+b\", no_a))\n",
    "print(re.search(r\"a+b\", one_a))\n",
    "print(re.search(r\"a+b\", lots_of_a))"
   ]
  },
  {
   "cell_type": "code",
   "execution_count": null,
   "metadata": {
    "collapsed": false
   },
   "outputs": [],
   "source": [
    "print(re.search(\"a?b\", no_a))\n",
    "print(re.search(\"a?b\", one_a))\n",
    "print(re.search(\"a?b\", lots_of_a))"
   ]
  },
  {
   "cell_type": "code",
   "execution_count": null,
   "metadata": {
    "collapsed": false
   },
   "outputs": [],
   "source": [
    "print(re.search(\"a{2}b\", no_a))\n",
    "print(re.search(\"a{2}b\", one_a))\n",
    "print(re.search(\"a{2}b\", lots_of_a))"
   ]
  },
  {
   "cell_type": "code",
   "execution_count": null,
   "metadata": {
    "collapsed": false
   },
   "outputs": [],
   "source": [
    "print(re.search(\"a{1,2}b\", no_a))\n",
    "print(re.search(\"a{1,2}b\", one_a))\n",
    "print(re.search(\"a{1,2}b\", lots_of_a))"
   ]
  },
  {
   "cell_type": "code",
   "execution_count": null,
   "metadata": {
    "collapsed": false
   },
   "outputs": [],
   "source": [
    "print(re.search(\"a{1,}b\", no_a))\n",
    "print(re.search(\"a{1,}b\", one_a))\n",
    "print(re.search(\"a{1,}b\", lots_of_a))"
   ]
  },
  {
   "cell_type": "code",
   "execution_count": null,
   "metadata": {
    "collapsed": false
   },
   "outputs": [],
   "source": [
    "print(re.search(\"a{,2}b\", no_a))\n",
    "print(re.search(\"a{,2}b\", one_a))\n",
    "print(re.search(\"a{,2}b\", lots_of_a))"
   ]
  },
  {
   "cell_type": "code",
   "execution_count": null,
   "metadata": {
    "collapsed": false
   },
   "outputs": [],
   "source": [
    "re.findall(r\"a?b\", \"ababb\")"
   ]
  },
  {
   "cell_type": "code",
   "execution_count": null,
   "metadata": {
    "collapsed": false
   },
   "outputs": [],
   "source": [
    "# Find 2 instances of ab\n",
    "re.search(r\"(a+b){2}\", \"abaaaabaab\")"
   ]
  },
  {
   "cell_type": "markdown",
   "metadata": {},
   "source": [
    "## Matching sets of things\n",
    "\n",
    "All the above is good, but not that useful by itself. Being able to match a group of characters is super-useful.\n",
    "\n",
    "We use square brackets to do this.\n",
    "\n",
    "* `[abz]` will match an a, b, or z.\n",
    "* `[A-Z]` matches a range of letters from A to Z.\n",
    "* `[^A-Z]` matches anything that _isn't_ A to Z."
   ]
  },
  {
   "cell_type": "code",
   "execution_count": null,
   "metadata": {
    "collapsed": false
   },
   "outputs": [],
   "source": [
    "# Get words three to five letters long\n",
    "re.findall(r\" [A-Za-z]{3,5} \", sentence)"
   ]
  },
  {
   "cell_type": "code",
   "execution_count": null,
   "metadata": {
    "collapsed": false
   },
   "outputs": [],
   "source": [
    "# Find the first number in a string\n",
    "re.search(r\"[0-9]+\", \"I ate 130 ghost peppers\")"
   ]
  },
  {
   "cell_type": "code",
   "execution_count": null,
   "metadata": {
    "collapsed": false
   },
   "outputs": [],
   "source": [
    "# Find all punctuation\n",
    "re.findall(r\"[\\.,;?!]\", sentence)"
   ]
  },
  {
   "cell_type": "code",
   "execution_count": null,
   "metadata": {
    "collapsed": false
   },
   "outputs": [],
   "source": [
    "# or\n",
    "re.findall(r\"[^A-Za-z0-9 ]\", sentence)"
   ]
  },
  {
   "cell_type": "code",
   "execution_count": null,
   "metadata": {
    "collapsed": false
   },
   "outputs": [],
   "source": [
    "# Find a phone number\n",
    "re.search(r\"[0-9]{3}-[0-9]{3}-[0-9]{4}\", \"My phone number is 919-555-1212.\")"
   ]
  },
  {
   "cell_type": "markdown",
   "metadata": {},
   "source": [
    "## Character classes\n",
    "\n",
    "That last match was pretty wordy. Luckily, we have something called _character classes_ for commonly used groups of characters.\n",
    "\n",
    "* `\\d` matches digits.\n",
    "* `\\D` matches _non_-digits.\n",
    "* `\\w` matches \"word characters\": basically `[a-zA-Z0-9_]`, plus all other valid Unicode characters that can be in words.\n",
    "* `\\W` matches _non_-word-characters.\n",
    "* `\\s` matches space characters -- `[ \\t\\n\\r\\f\\v]`.\n",
    "* `\\S` matches non-space characters."
   ]
  },
  {
   "cell_type": "code",
   "execution_count": null,
   "metadata": {
    "collapsed": false
   },
   "outputs": [],
   "source": [
    "# Find a phone number\n",
    "re.search(r\"\\d{3}-\\d{3}-\\d{4}\", \"My phone number is 919-555-1212.\")"
   ]
  },
  {
   "cell_type": "code",
   "execution_count": null,
   "metadata": {
    "collapsed": false
   },
   "outputs": [],
   "source": [
    "# Find all punctuation\n",
    "re.findall(r\"[^\\w\\s]\", sentence)"
   ]
  },
  {
   "cell_type": "markdown",
   "metadata": {},
   "source": [
    "There's a few odder ones:\n",
    "\n",
    "* `\\A` matches the beginning of the string. This is a lot like `^`, but different for multi-line strings.\n",
    "* `\\Z` matches the end of the string. This is a lot like `$`, but different for multi-line strings.\n",
    "* `\\b` matches a word boundary. This means it matches an empty string at the end of a word."
   ]
  },
  {
   "cell_type": "code",
   "execution_count": null,
   "metadata": {
    "collapsed": false
   },
   "outputs": [],
   "source": [
    "# Get words three to five letters long\n",
    "re.findall(r\"\\b\\w{3,5}\\b\", sentence)"
   ]
  },
  {
   "cell_type": "code",
   "execution_count": null,
   "metadata": {
    "collapsed": false
   },
   "outputs": [],
   "source": [
    "# Pick out email addresses\n",
    "possible_emails = [\"clinton\", \"clinton@dreisbach.us\", \"beanguy@example.org\", \n",
    "                   \"Email help@example.org for more information\",\n",
    "                   \"terry@example.org\", \"@carmen\", \"what@what\", \"hi@example.org\"]\n",
    "[possibility \n",
    " for possibility in possible_emails \n",
    " if re.search(\"\\A\\w+@\\w+\\.\\w{2,3}\\Z\", possibility)]"
   ]
  },
  {
   "cell_type": "markdown",
   "metadata": {},
   "source": [
    "Note that a regex for emails is more complex than this. It's not that hard, though:\n",
    "\n",
    "```\n",
    "[a-z0-9!#$%&'*+/=?^_`{|}~-]+(?:\\.[a-z0-9!#$%&'*+/=?^_`{|}~-]+)*@\n",
    "(?:[a-z0-9](?:[a-z0-9-]*[a-z0-9])?\\.)+[a-z0-9](?:[a-z0-9-]*[a-z0-9])?\n",
    "```"
   ]
  },
  {
   "cell_type": "markdown",
   "metadata": {},
   "source": [
    "## Capturing matches\n",
    "\n",
    "We often want to capture part of a match for later use. You can use parentheses to mark part of your regex as something you will capture."
   ]
  },
  {
   "cell_type": "code",
   "execution_count": null,
   "metadata": {
    "collapsed": false
   },
   "outputs": [],
   "source": [
    "# city and state\n",
    "possibilities = [\"Decatur, GA\", \"Wilkesboro, NC\", \"Seattle\", \"Wichita Falls, TX\", \"DC\"]\n",
    "for possibility in possibilities:\n",
    "    match = re.search(\"^([\\w\\s]+), ([A-Z]{2})\", possibility)\n",
    "    if match:\n",
    "        city, state = match.groups()\n",
    "        print(\"City:\", city, \"| State:\", state)"
   ]
  },
  {
   "cell_type": "code",
   "execution_count": null,
   "metadata": {
    "collapsed": false
   },
   "outputs": [],
   "source": [
    "# Re-format phone numbers for later\n",
    "phone_nums = [\"999-555-1212\", \"(703) 555-9999\", \"800.555.7341\", \"3145558286\"]\n",
    "cleaned = []\n",
    "for num in phone_nums:\n",
    "    match = re.search(r\"\\(?(\\d{3})\\)?[-.]?\\s*(\\d{3})[\\-\\.]?(\\d{4})\", num)\n",
    "    cleaned.append(\"{}-{}-{}\".format(*match.groups()))\n",
    "print(cleaned)"
   ]
  },
  {
   "cell_type": "markdown",
   "metadata": {},
   "source": [
    "## Non-capturing group\n",
    "\n",
    "Use `(?:)` to make a group but not capture it."
   ]
  },
  {
   "cell_type": "code",
   "execution_count": null,
   "metadata": {
    "collapsed": false
   },
   "outputs": [],
   "source": [
    "phone_num_with_possible_area_code = r\"(?:\\(?(\\d{3})\\)?[-.]?\\s*)?(\\d{3})[\\-\\.]?(\\d{4})\"\n",
    "phone_nums = [\"999-555-1212\", \"(703) 555-9999\", \"800.555.7341\", \"3145558286\", \"555-1212\"]\n",
    "cleaned = []\n",
    "for num in phone_nums:\n",
    "    match = re.search(phone_num_with_possible_area_code, num)\n",
    "    cleaned.append(\"{}-{}-{}\".format(*match.groups()))\n",
    "print(cleaned)"
   ]
  },
  {
   "cell_type": "code",
   "execution_count": null,
   "metadata": {
    "collapsed": false
   },
   "outputs": [],
   "source": [
    "re.search(r\"(?:ab)+\", \"ccccababababcccccab\")"
   ]
  },
  {
   "cell_type": "markdown",
   "metadata": {},
   "source": [
    "## Scratching the surface\n",
    "\n",
    "This is just the beginning with regular expressions. You can go really deep down this hole.\n",
    "\n",
    "* [Python regex docs](https://docs.python.org/3/library/re.html)\n",
    "* [Regexr](http://www.regexr.com/)\n",
    "* [Regex One](http://regexone.com/)\n",
    "* [Regular-Expressions.info](http://www.regular-expressions.info/)\n"
   ]
  },
  {
   "cell_type": "code",
   "execution_count": null,
   "metadata": {
    "collapsed": false
   },
   "outputs": [],
   "source": [
    "# Pick out email addresses\n",
    "possible_emails = [\"clinton\", \"clinton@dreisbach.us\", \"beanguy@example.org\", \n",
    "                   \"Email help@example.org for more information\",\n",
    "                   \"terry@example.org\", \"@carmen\", \"what@what\", \"hi@example.org\"]\n",
    "emails = []\n",
    "for possibility in possible_emails:\n",
    "    match = re.search(\"\\w+@\\w+\\.\\w{2,3}\", possibility)\n",
    "    if match:\n",
    "        emails.append(match.group(0))\n",
    "emails"
   ]
  },
  {
   "cell_type": "code",
   "execution_count": null,
   "metadata": {
    "collapsed": false
   },
   "outputs": [],
   "source": []
  },
  {
   "cell_type": "code",
   "execution_count": null,
   "metadata": {
    "collapsed": false
   },
   "outputs": [],
   "source": [
    "for match in re.finditer(r\"a*b\", \"ccccabaabcccaaaaaababccb\"):\n",
    "    print(match)"
   ]
  },
  {
   "cell_type": "code",
   "execution_count": null,
   "metadata": {
    "collapsed": false
   },
   "outputs": [],
   "source": [
    "phone_nums = \"\"\"456-111-4567\n",
    "(919) 444-9721\n",
    "(123) 456 7890\n",
    "313.424.5353\n",
    "1-800-987-2345\n",
    "+1 (424) 979-3333\n",
    "555-1212\"\"\"\n",
    "\n",
    "phone_nums = phone_nums.split(\"\\n\")\n",
    "phone_nums"
   ]
  },
  {
   "cell_type": "code",
   "execution_count": null,
   "metadata": {
    "collapsed": false
   },
   "outputs": [],
   "source": [
    "phone_num_regex = r\"(?:\\(?(\\d{3})\\)?[\\-\\.]?\\s*)?(\\d{3})[\\-\\.]?\\s*(\\d{4})\""
   ]
  },
  {
   "cell_type": "code",
   "execution_count": null,
   "metadata": {
    "collapsed": false
   },
   "outputs": [],
   "source": [
    "default_area_code = \"919\"\n",
    "for num in phone_nums:\n",
    "    match = re.search(phone_num_regex, num)\n",
    "    if match:\n",
    "        area_code, prefix, suffix = match.groups()\n",
    "        if area_code is None:\n",
    "            area_code = default_area_code\n",
    "        print(\"{}\\t{}-{}-{}\".format(num, area_code, prefix, suffix))"
   ]
  },
  {
   "cell_type": "code",
   "execution_count": null,
   "metadata": {
    "collapsed": false
   },
   "outputs": [],
   "source": [
    "date_str = \"\"\"9/4/1976\n",
    "09/30/77\n",
    "20111103\n",
    "Nov 30, 2014\n",
    "5 Oct 1995\n",
    "1999-10-04\"\"\"\n",
    "\n",
    "dates = date_str.split(\"\\n\")"
   ]
  },
  {
   "cell_type": "code",
   "execution_count": null,
   "metadata": {
    "collapsed": false
   },
   "outputs": [],
   "source": [
    "def extract_date(date_str):\n",
    "    date_regex = [r\"(?P<month>\\d{1,2})/(?P<day>\\d{1,2})/(?P<year>\\d{4}|\\d{2})\",\n",
    "                  r\"(?P<year>\\d{4})-?(?P<month>\\d{2})-?(?P<day>\\d{2})\",\n",
    "                  r\"(?P<day>\\d{1,2})\\s*(?P<month>[A-Za-z]{3})\\s*(?P<year>\\d{4})\",\n",
    "                  r\"(?P<month>[A-Za-z]{3})\\s*(?P<day>\\d{1,2})\\s*,?\\s*(?P<year>\\d{4})\"]\n",
    "    \n",
    "    for regex in date_regex:\n",
    "        match = re.match(regex, date_str)\n",
    "        if match:\n",
    "            return match\n",
    "        \n",
    "def clean_date(year, month, day):\n",
    "    months = {\"Jan\": 1, \"Feb\": 2, \"Oct\": 10, \"Nov\": 11}\n",
    "\n",
    "    try:\n",
    "        month = int(month)\n",
    "    except ValueError:\n",
    "        month = months[month]\n",
    "    day = int(day)\n",
    "    year = int(year)\n",
    "    if year < 15:\n",
    "        year += 2000\n",
    "    elif year < 100:\n",
    "        year += 1900\n",
    "    \n",
    "    return {\"year\": year, \"month\": month, \"day\": day}\n",
    "        \n",
    "\n",
    "for date in dates:\n",
    "    match = extract_date(date)\n",
    "    if match:\n",
    "        ddict = match.groupdict()\n",
    "        ddict = clean_date(**ddict)\n",
    "        ddict['orig'] = date\n",
    "            \n",
    "        print(\"{orig}\\t{month:02d}/{day:02d}/{year:d}\".format(**ddict))"
   ]
  },
  {
   "cell_type": "code",
   "execution_count": null,
   "metadata": {
    "collapsed": false
   },
   "outputs": [],
   "source": []
  }
 ],
 "metadata": {
  "kernelspec": {
   "display_name": "Python 3",
   "language": "python",
   "name": "python3"
  },
  "language_info": {
   "codemirror_mode": {
    "name": "ipython",
    "version": 3
   },
   "file_extension": ".py",
   "mimetype": "text/x-python",
   "name": "python",
   "nbconvert_exporter": "python",
   "pygments_lexer": "ipython3",
   "version": "3.4.3"
  }
 },
 "nbformat": 4,
 "nbformat_minor": 0
}
