{
 "cells": [
  {
   "cell_type": "code",
   "execution_count": null,
   "metadata": {
    "collapsed": false
   },
   "outputs": [],
   "source": [
    "import random\n",
    "import matplotlib.pyplot as plt\n",
    "import statistics as st\n",
    "import math"
   ]
  },
  {
   "cell_type": "code",
   "execution_count": null,
   "metadata": {
    "collapsed": true
   },
   "outputs": [],
   "source": [
    "%matplotlib inline"
   ]
  },
  {
   "cell_type": "markdown",
   "metadata": {},
   "source": [
    "Let's simulate some die rolls. We're going to see the chance of rolling 12 or higher on _n_ dice.\n",
    "\n",
    "It's important to note here that anything we simulate with random numbers could be calculated. Simulation is very helpful, though, when the amount of variables make calculation difficult."
   ]
  },
  {
   "cell_type": "code",
   "execution_count": null,
   "metadata": {
    "collapsed": false
   },
   "outputs": [],
   "source": [
    "def roll_die():\n",
    "    return random.randint(1, 6)\n",
    "\n",
    "def roll_n_dice(n=1):\n",
    "    return sum(roll_die() for _ in range(n))"
   ]
  },
  {
   "cell_type": "code",
   "execution_count": null,
   "metadata": {
    "collapsed": false
   },
   "outputs": [],
   "source": [
    "roll_n_dice(3)"
   ]
  },
  {
   "cell_type": "code",
   "execution_count": null,
   "metadata": {
    "collapsed": false
   },
   "outputs": [],
   "source": [
    "def trial_roll(target, num_dice, num_trials=1000):\n",
    "    rolls = [roll_n_dice(num_dice) for _ in range(num_trials)]\n",
    "    successes = len([roll for roll in rolls if roll >= target])\n",
    "    return successes / num_trials\n",
    "\n",
    "print(\"Chance on 2 dice:\", trial_roll(12, 2))\n",
    "print(\"Chance on 3 dice:\", trial_roll(12, 3))\n",
    "print(\"Chance on 4 dice:\", trial_roll(12, 4))\n",
    "print(\"Chance on 5 dice:\", trial_roll(12, 5))"
   ]
  },
  {
   "cell_type": "code",
   "execution_count": null,
   "metadata": {
    "collapsed": false
   },
   "outputs": [],
   "source": [
    "print(\"Chance on 2 dice:\", trial_roll(12, 2))\n",
    "print(\"Chance on 3 dice:\", trial_roll(12, 3))\n",
    "print(\"Chance on 4 dice:\", trial_roll(12, 4))\n",
    "print(\"Chance on 5 dice:\", trial_roll(12, 5))"
   ]
  },
  {
   "cell_type": "code",
   "execution_count": null,
   "metadata": {
    "collapsed": false
   },
   "outputs": [],
   "source": [
    "print(\"Chance on 2 dice:\", trial_roll(12, 2, 100000))\n",
    "print(\"Chance on 3 dice:\", trial_roll(12, 3, 100000))\n",
    "print(\"Chance on 4 dice:\", trial_roll(12, 4, 100000))\n",
    "print(\"Chance on 5 dice:\", trial_roll(12, 5, 100000))"
   ]
  },
  {
   "cell_type": "markdown",
   "metadata": {},
   "source": [
    "Every Friday, you go to the ATM to deposit checks. There's a lot of people who do this and so the line can be long -- an average of 3 people, but as many as 6 or as few as 0. Each person in front of you in line takes about 2 minutes, but they sometimes take as long as 5 minutes and never take less than 1 minute. You need to know how long of a wait to expect.\n",
    "\n",
    "I'm using a normal distribution for the number of customers and their wait times, but am putting a lower limit on each. The number of customers is a normal distribution with $\\mu$ of 3 and $\\sigma$ of 1, but always an integer and never less than 0, and the time for each customer is a normal distribution with $\\mu$ of 2 minutes and $\\sigma$ of 1 minute, but never less than 1 minute."
   ]
  },
  {
   "cell_type": "code",
   "execution_count": null,
   "metadata": {
    "collapsed": false
   },
   "outputs": [],
   "source": [
    "num_customers = lambda: max(0, int(random.gauss(3, 1)))\n",
    "time_at_atm = lambda: max(1, random.gauss(2, 1))\n",
    "\n",
    "def sample_atm_time():\n",
    "    return sum(time_at_atm() for _ in range(num_customers()))"
   ]
  },
  {
   "cell_type": "code",
   "execution_count": null,
   "metadata": {
    "collapsed": false
   },
   "outputs": [],
   "source": [
    "def atm_trials(num_trials=1000):\n",
    "    return [sample_atm_time() for _ in range(num_trials)]"
   ]
  },
  {
   "cell_type": "code",
   "execution_count": null,
   "metadata": {
    "collapsed": false
   },
   "outputs": [],
   "source": [
    "trials = atm_trials()"
   ]
  },
  {
   "cell_type": "code",
   "execution_count": null,
   "metadata": {
    "collapsed": false
   },
   "outputs": [],
   "source": [
    "st.mean(trials)"
   ]
  },
  {
   "cell_type": "code",
   "execution_count": null,
   "metadata": {
    "collapsed": false
   },
   "outputs": [],
   "source": [
    "st.pstdev(trials)"
   ]
  },
  {
   "cell_type": "markdown",
   "metadata": {},
   "source": [
    "From this, it looks like you'll wait on average about 5 or 5.5 minutes, and $\\frac{2}{3}$ of the time, you'll be done in 8 minutes or less. 99% of the time, you'll be done in 13 minutes or less.\n",
    "\n",
    "Let's look at a histogram of the wait times."
   ]
  },
  {
   "cell_type": "code",
   "execution_count": null,
   "metadata": {
    "collapsed": false
   },
   "outputs": [],
   "source": [
    "plt.hist(trials, bins=30)\n",
    "plt.xlabel(\"minutes\")\n",
    "plt.ylabel(\"frequency\")\n",
    "plt.title(\"Wait Time at ATM\")\n",
    "plt.show()"
   ]
  },
  {
   "cell_type": "code",
   "execution_count": null,
   "metadata": {
    "collapsed": true
   },
   "outputs": [],
   "source": []
  }
 ],
 "metadata": {
  "kernelspec": {
   "display_name": "Python 3",
   "language": "python",
   "name": "python3"
  },
  "language_info": {
   "codemirror_mode": {
    "name": "ipython",
    "version": 3
   },
   "file_extension": ".py",
   "mimetype": "text/x-python",
   "name": "python",
   "nbconvert_exporter": "python",
   "pygments_lexer": "ipython3",
   "version": "3.4.3"
  }
 },
 "nbformat": 4,
 "nbformat_minor": 0
}
