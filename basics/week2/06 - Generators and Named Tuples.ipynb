{
 "cells": [
  {
   "cell_type": "markdown",
   "metadata": {},
   "source": [
    "# Generators\n",
    "\n",
    "In Python there are often many different ways to accomplish a single task.  So far you are familiar with many of Pythons primitive data types - specifically for this discussion we will focus on data types that can be iterated over.  \n",
    "\n",
    "A list is a perfect example of a type that can be iterated over.  When Python iterated through the list there are a few major things to note about how it does it:\n",
    "\n",
    " - The list is fully loaded into memory\n",
    " - Each individual item in the list is exposed to the scope as the variable name you provided.\n",
    " \n",
    "List iteration for review:"
   ]
  },
  {
   "cell_type": "code",
   "execution_count": 39,
   "metadata": {
    "collapsed": false
   },
   "outputs": [
    {
     "name": "stdout",
     "output_type": "stream",
     "text": [
      "joel\n",
      "clinton\n",
      "mason\n"
     ]
    }
   ],
   "source": [
    "for name in [\"joel\", \"clinton\", \"mason\"]:\n",
    "    print(name)"
   ]
  },
  {
   "cell_type": "markdown",
   "metadata": {},
   "source": [
    "A generator is different from an iterator in that it looks more like a function with a return value.  Do not be fooled though, this is not a typical function that will return a value and exit forever.  Instead the generator function will return a generator object (from the `yield` statement)."
   ]
  },
  {
   "cell_type": "code",
   "execution_count": 40,
   "metadata": {
    "collapsed": false
   },
   "outputs": [
    {
     "name": "stdout",
     "output_type": "stream",
     "text": [
      "1\n",
      "4\n",
      "27\n",
      "256\n",
      "3125\n",
      "46656\n",
      "823543\n"
     ]
    }
   ],
   "source": [
    "def generator_function(values):\n",
    "    for val in values:\n",
    "        yield val ** val\n",
    "        \n",
    "generator_object = generator_function([1, 2, 3, 4, 5, 6, 7])\n",
    "\n",
    "for square in generator_object:\n",
    "    print(square)"
   ]
  },
  {
   "cell_type": "markdown",
   "metadata": {},
   "source": [
    "How this works may still be unclear - that's because it's iterating through the sequence `lazily`.  This means instead of moving through a sequence all at once the generator will iterate and calculate the value only when it's asked to - waiting until the very last minute before it has to do any work.  Hence the `lazy` term.  This is more clearly demonstrated below."
   ]
  },
  {
   "cell_type": "code",
   "execution_count": 41,
   "metadata": {
    "collapsed": false
   },
   "outputs": [
    {
     "name": "stdout",
     "output_type": "stream",
     "text": [
      "Joel\n"
     ]
    }
   ],
   "source": [
    "def generator_func():\n",
    "    yield \"Joel\"\n",
    "    yield \"Clinton\"\n",
    "    yield \"Kelly\"\n",
    "    \n",
    "generator_object = generator_func()\n",
    "\n",
    "# the next() function will force iteration through another step.\n",
    "print(next(generator_object))\n",
    "\n",
    "# print a few more next() calls here of your own and see what your results are.\n",
    "\n"
   ]
  },
  {
   "cell_type": "markdown",
   "metadata": {},
   "source": [
    "The above code snippet more clearly demonstrates what is going on inside of a generator object.  The first time you call the function nothing really happens.  It's only after you need to iterate over the generator that you actually see something happening. Your own personal useage of `next` may vary in projects but it serves a good purpose to demonstrate what's going on here.\n",
    "\n",
    "A smart use for a generator is for file I/O. The file you read in can be any size and if all you needed was access to the file contents \"down the line\" you would have to read the whole file in and pass all of that memory around.  With a generator you can create a reference to the file that doesn't get read until it's absolutely neccesary."
   ]
  },
  {
   "cell_type": "code",
   "execution_count": 42,
   "metadata": {
    "collapsed": false
   },
   "outputs": [
    {
     "name": "stdout",
     "output_type": "stream",
     "text": [
      "# Week 2\n",
      "\n",
      "\n",
      "\n",
      "## Day 1\n",
      "\n",
      "\n",
      "\n",
      "*Question of the day:* How would you get the sum of all prime numbers between 1 and 100?\n",
      "\n",
      "\n",
      "\n",
      "### Goals\n",
      "\n",
      "\n",
      "\n",
      "* Review\n",
      "\n",
      "  * List comprehensions\n",
      "\n",
      "  * Test-driven development\n",
      "\n",
      "* Dictionary comprehensions\n",
      "\n",
      "* Set comprehensions\n",
      "\n",
      "* Exceptions\n",
      "\n",
      "\n",
      "\n",
      "### Exercise\n",
      "\n",
      "\n",
      "\n",
      "[Calculate grades](Exercise 1 - Calculate grades.ipynb)\n",
      "\n",
      "\n",
      "\n",
      "### Assignment\n",
      "\n",
      "\n",
      "\n",
      "[Currency conversion](https://github.com/theironyard/python-assignments/tree/master/basics/currency-converter)\n",
      "\n",
      "\n",
      "\n",
      "## Day 2\n",
      "\n",
      "\n",
      "\n",
      "*Question of the day:* If you were creating a card game, how would you keep\n",
      "\n",
      "score over time?\n",
      "\n",
      "\n",
      "\n",
      "### Goals\n",
      "\n",
      "\n",
      "\n",
      "* Classes\n",
      "\n",
      "* CRC cards\n",
      "\n",
      "* OO design\n",
      "\n",
      "\n",
      "\n",
      "### Exercise\n",
      "\n",
      "\n",
      "\n",
      "Design the currency converter project using CRC cards.\n",
      "\n",
      "\n",
      "\n",
      "### Assignment\n",
      "\n",
      "\n",
      "\n",
      "[Blackjack, part 1](assignments/blackjack-1)\n",
      "\n",
      "\n",
      "\n",
      "\n",
      "\n",
      "## Day 3\n",
      "\n",
      "\n",
      "\n",
      "*Question of the day:* How does lazy generation affect memory usage compared to typical\n",
      "\n",
      "iteration?\n",
      "\n",
      "\n",
      "\n",
      "### Goals\n",
      "\n",
      "\n",
      "\n",
      "* Generators\n",
      "\n",
      "* Named tuples\n",
      "\n",
      "* Other collections\n",
      "\n",
      "\n",
      "\n",
      "### Exercises\n",
      "\n",
      "\n",
      "\n",
      "[Implement Range Function](Exercise 3 - Implement Range.ipynb)\n",
      "\n",
      "\n",
      "\n",
      "### Assignment\n",
      "\n",
      "\n",
      "\n",
      "???\n",
      "\n",
      "\n",
      "\n",
      "## Day 4\n",
      "\n",
      "\n",
      "\n",
      "*Question of the day:* When creating a blackjack game, how do you determine\n",
      "\n",
      "the point value of a hand that has aces in it?\n",
      "\n",
      "\n",
      "\n",
      "### Goals\n",
      "\n",
      "\n",
      "\n",
      "* Continued OO design\n",
      "\n",
      "\n",
      "\n",
      "### Exercises\n",
      "\n",
      "\n",
      "\n",
      "[Build your own rocket](http://introtopython.org/all_exercises_challenges.html#your-own-rocket-2).\n",
      "\n",
      "\n",
      "\n",
      "### Assignment\n",
      "\n",
      "\n",
      "\n",
      "[Blackjack, part 2](assignments/blackjack-2)\n",
      "\n"
     ]
    }
   ],
   "source": [
    "def file_contents(file_path):\n",
    "    for line in open(file_path):\n",
    "        yield line\n",
    "\n",
    "def do_something_two(file_generator):\n",
    "    # now that we are here lets start reading the file\n",
    "    # As this iterates it will read a line from the file into memory and then\n",
    "    # dump it as it's no longer needed\n",
    "    for line in file_generator:\n",
    "        print(line)\n",
    "\n",
    "def do_something_one(file_generator):\n",
    "    # other stuff happens here\n",
    "    do_something_two(file_generator)  # Just hand the file reference to it's final destination\n",
    "        \n",
    "def main_function():    \n",
    "    file_generator = file_contents(\"README.md\")  # haven't read the file yet\n",
    "    do_something_one(file_generator)  # Invoke the function above, pass it file reference\n",
    "\n",
    "\n",
    "main_function()"
   ]
  },
  {
   "cell_type": "markdown",
   "metadata": {},
   "source": [
    "A final note on generators.  Python makes an extra effort for us as programmers so that we can treat an iterator the same way we would treat a generator.  This can make for refactoring memory intensive code to use a more lighter weight generator pretty painless. Just make sure you've got adequate test coverage for such a refactor."
   ]
  },
  {
   "cell_type": "markdown",
   "metadata": {},
   "source": [
    "# Named Tuple\n",
    "\n",
    "Named Tuples (from here on referred to by their syntactically correct name `namedtuple`) are possibly the quickest way to convert a primitive data structure into a Python object-like instance.  It generates a hefty amount of boilerplate code for you and all you really pass in is a Name, Keys, and Values. A `namedtuple` can be especially useful if you're working with something like a JSON Api that will pass you a flat string of data that you need to convert into something useful.  Lets see an example: \n"
   ]
  },
  {
   "cell_type": "code",
   "execution_count": 43,
   "metadata": {
    "collapsed": false
   },
   "outputs": [
    {
     "name": "stdout",
     "output_type": "stream",
     "text": [
      "Dictionary Lookup:  garfield\n",
      "namedtuple `name`:  garfield\n",
      "namedtuple `grade`:  sophomore\n"
     ]
    }
   ],
   "source": [
    "import json\n",
    "from collections import namedtuple\n",
    "\n",
    "JSON_STRING = '{\"name\": \"garfield\", \"grade\": \"sophomore\"}'  # raw string from webservice\n",
    "json_dict = json.loads(JSON_STRING)  # serialized to a Python Dictionary\n",
    "\n",
    "print(\"Dictionary Lookup: \", json_dict[\"name\"])  # So lookups are with dictionary style lookups\n",
    "\n",
    "Person = namedtuple(\"Person\", json_dict.keys())  # created a \"Person\" class with the expected keys\n",
    "\n",
    "person = Person(*json_dict.values())  # notice the SPLAT (*). This will flatten our list to positional arguments\n",
    "\n",
    "print(\"namedtuple `name`: \", person.name)\n",
    "print(\"namedtuple `grade`: \", person.grade)\n"
   ]
  },
  {
   "cell_type": "markdown",
   "metadata": {},
   "source": [
    "### What is happening here?\n",
    "\n",
    "\"Did you just make a class?\"\n",
    "\n",
    "\"That's not how we've defined classes before?!\"\n",
    "\n",
    "If you thought either of these or any variation on this theme then you are not lost - you're seeing what you need to see.  `namedtuple` is actually what is called a `Factory`.  A `Factory` is a function that can return a class on the fly without having to define the class structure explicitly.\n",
    "\n",
    "\"It can return a class?\"\n",
    "\n",
    "Exactly!  I used the term `boilerplate` in the paragraph section above and what I meant by that was just \"tedious code that might be duplicated that I don't want to write\".  Using a `Factory` to generate a class for you automatically can allow you to more easily interact with 3rd party APIs that may change their data structure.\n",
    "\n",
    "A `namedtuple` can also allow the your program the inject instance methods onto your object `on the fly`. See below:"
   ]
  },
  {
   "cell_type": "code",
   "execution_count": 44,
   "metadata": {
    "collapsed": false
   },
   "outputs": [
    {
     "data": {
      "text/plain": [
       "'Garfield'"
      ]
     },
     "execution_count": 44,
     "metadata": {},
     "output_type": "execute_result"
    }
   ],
   "source": [
    "def capitalize_name(self):\n",
    "    return self.name.title()\n",
    "\n",
    "Person.get_name = capitalize_name  # Setting the get_name instance method AFTER we've created an instance\n",
    "\n",
    "person.get_name()  # => 'Garfield'"
   ]
  },
  {
   "cell_type": "code",
   "execution_count": null,
   "metadata": {
    "collapsed": true
   },
   "outputs": [],
   "source": []
  }
 ],
 "metadata": {
  "kernelspec": {
   "display_name": "Python 3",
   "language": "python",
   "name": "python3"
  },
  "language_info": {
   "codemirror_mode": {
    "name": "ipython",
    "version": 3
   },
   "file_extension": ".py",
   "mimetype": "text/x-python",
   "name": "python",
   "nbconvert_exporter": "python",
   "pygments_lexer": "ipython3",
   "version": "3.4.3"
  }
 },
 "nbformat": 4,
 "nbformat_minor": 0
}
