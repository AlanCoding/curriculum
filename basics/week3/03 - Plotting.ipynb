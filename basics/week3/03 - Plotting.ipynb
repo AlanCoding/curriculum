{
 "cells": [
  {
   "cell_type": "code",
   "execution_count": null,
   "metadata": {
    "collapsed": false
   },
   "outputs": [],
   "source": [
    "import random\n",
    "import math\n",
    "import statistics\n",
    "import matplotlib.pyplot as plt"
   ]
  },
  {
   "cell_type": "code",
   "execution_count": null,
   "metadata": {
    "collapsed": false
   },
   "outputs": [],
   "source": [
    "%matplotlib inline"
   ]
  },
  {
   "cell_type": "code",
   "execution_count": null,
   "metadata": {
    "collapsed": false
   },
   "outputs": [],
   "source": [
    "def repeat(n, fn):\n",
    "    return [fn() for _ in range(n)]"
   ]
  },
  {
   "cell_type": "code",
   "execution_count": null,
   "metadata": {
    "collapsed": false
   },
   "outputs": [],
   "source": [
    "nums = repeat(10000, lambda: random.gauss(0, 5))"
   ]
  },
  {
   "cell_type": "markdown",
   "metadata": {},
   "source": [
    "# Line plots"
   ]
  },
  {
   "cell_type": "code",
   "execution_count": null,
   "metadata": {
    "collapsed": false
   },
   "outputs": [],
   "source": [
    "x1 = [\"2014 Q1\", \"2014 Q2\", \"2014 Q3\", \"2014 Q4\", \"2015 Q1\"]\n",
    "y1 = [400, 700, 1200, 2000, 2300]\n",
    "plt.plot(y1)\n",
    "plt.xticks(range(5), x1)\n",
    "plt.xlabel(\"quarter\")\n",
    "plt.ylabel(\"dollar bills\")\n",
    "plt.title(\"Sales\")\n",
    "plt.show()"
   ]
  },
  {
   "cell_type": "code",
   "execution_count": null,
   "metadata": {
    "collapsed": false
   },
   "outputs": [],
   "source": [
    "nums = []\n",
    "for n in range(10000):\n",
    "    nums.append(math.log2(n + 1))\n",
    "plt.plot(nums)\n",
    "plt.show()"
   ]
  },
  {
   "cell_type": "code",
   "execution_count": null,
   "metadata": {
    "collapsed": false
   },
   "outputs": [],
   "source": [
    "plt.plot(nums)\n",
    "plt.xscale('log')\n",
    "plt.show()"
   ]
  },
  {
   "cell_type": "code",
   "execution_count": null,
   "metadata": {
    "collapsed": false
   },
   "outputs": [],
   "source": [
    "def roll2():\n",
    "    pos = random.randint(1, 6)\n",
    "    neg = random.randint(1, 6)\n",
    "    return pos - neg\n",
    "\n",
    "num = 0\n",
    "nums = []\n",
    "for _ in range(10000):\n",
    "    num += roll2()\n",
    "    nums.append(num)"
   ]
  },
  {
   "cell_type": "code",
   "execution_count": null,
   "metadata": {
    "collapsed": false
   },
   "outputs": [],
   "source": [
    "plt.plot(nums)\n",
    "plt.show()"
   ]
  },
  {
   "cell_type": "code",
   "execution_count": null,
   "metadata": {
    "collapsed": false
   },
   "outputs": [],
   "source": [
    "plt.plot(nums)\n",
    "plt.xscale('log')\n",
    "plt.show()"
   ]
  },
  {
   "cell_type": "markdown",
   "metadata": {},
   "source": [
    "# Histograms"
   ]
  },
  {
   "cell_type": "code",
   "execution_count": null,
   "metadata": {
    "collapsed": false
   },
   "outputs": [],
   "source": [
    "plt.hist(nums, bins=50)\n",
    "plt.xlabel(\"number\")\n",
    "plt.ylabel(\"frequency\")\n",
    "plt.title(\"Normal Distribution\")\n",
    "plt.show()"
   ]
  },
  {
   "cell_type": "code",
   "execution_count": null,
   "metadata": {
    "collapsed": false
   },
   "outputs": [],
   "source": [
    "plt.hist(nums, bins=50)\n",
    "plt.xlabel(\"number\")\n",
    "plt.ylabel(\"frequency\")\n",
    "plt.title(\"Normal Distribution\")\n",
    "\n",
    "ymin, ymax = plt.ylim()\n",
    "mean = statistics.mean(nums)\n",
    "stdev = statistics.pstdev(nums)\n",
    "plt.vlines(mean, ymin, ymax, color=\"red\")\n",
    "plt.vlines([mean - 2 * stdev, mean - stdev, mean + stdev, mean + 2 * stdev], ymin, ymax, linestyles=\"dashed\", color=\"red\")\n",
    "plt.show()"
   ]
  },
  {
   "cell_type": "markdown",
   "metadata": {},
   "source": [
    "# Box plots"
   ]
  },
  {
   "cell_type": "code",
   "execution_count": null,
   "metadata": {
    "collapsed": false
   },
   "outputs": [],
   "source": [
    "group1 = repeat(1000, lambda: random.triangular(20, 180, 100))\n",
    "group2 = repeat(1000, lambda: random.triangular(50, 150, 130))\n",
    "group3 = repeat(1000, lambda: random.triangular(40, 170, 80))\n",
    "\n",
    "plt.boxplot([group1, group2, group3])\n",
    "ymin, ymax = plt.ylim()\n",
    "plt.ylim(ymin - 30, ymax + 30)\n",
    "plt.title(\"Running Times\")\n",
    "plt.ylabel(\"seconds\")\n",
    "plt.xticks(range(1,4), [\"Group 1\", \"Group 2\", \"Group 3\"])\n",
    "plt.show()"
   ]
  }
 ],
 "metadata": {
  "kernelspec": {
   "display_name": "Python 3",
   "language": "python",
   "name": "python3"
  },
  "language_info": {
   "codemirror_mode": {
    "name": "ipython",
    "version": 3
   },
   "file_extension": ".py",
   "mimetype": "text/x-python",
   "name": "python",
   "nbconvert_exporter": "python",
   "pygments_lexer": "ipython3",
   "version": "3.4.3"
  }
 },
 "nbformat": 4,
 "nbformat_minor": 0
}
