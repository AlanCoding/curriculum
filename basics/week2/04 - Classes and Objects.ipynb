{
 "cells": [
  {
   "cell_type": "code",
   "execution_count": 1,
   "metadata": {
    "collapsed": false
   },
   "outputs": [
    {
     "name": "stdout",
     "output_type": "stream",
     "text": [
      "1\n",
      "2\n",
      "3\n"
     ]
    }
   ],
   "source": [
    "# Sample Counter object\n",
    "\n",
    "class Counter:\n",
    "    def __init__(self, start=0):\n",
    "        self.current = start\n",
    "                \n",
    "    def next(self):\n",
    "        self.current += 1\n",
    "        return self.current\n",
    "    \n",
    "c = Counter()\n",
    "print(c.next())\n",
    "print(c.next())\n",
    "print(c.next())"
   ]
  },
  {
   "cell_type": "code",
   "execution_count": 2,
   "metadata": {
    "collapsed": false
   },
   "outputs": [],
   "source": [
    "import math"
   ]
  },
  {
   "cell_type": "code",
   "execution_count": 3,
   "metadata": {
    "collapsed": false
   },
   "outputs": [
    {
     "name": "stdout",
     "output_type": "stream",
     "text": [
      "Populating the interactive namespace from numpy and matplotlib\n"
     ]
    }
   ],
   "source": [
    "%pylab inline"
   ]
  },
  {
   "cell_type": "markdown",
   "metadata": {},
   "source": [
    "We have been using objects since we began with Python, since everything is an object."
   ]
  },
  {
   "cell_type": "code",
   "execution_count": 4,
   "metadata": {
    "collapsed": false
   },
   "outputs": [
    {
     "name": "stdout",
     "output_type": "stream",
     "text": [
      "<class 'int'>\n",
      "<class 'str'>\n",
      "<class 'list'>\n",
      "<class 'dict'>\n",
      "<class 'set'>\n",
      "<class 'function'>\n"
     ]
    }
   ],
   "source": [
    "a_number = 1\n",
    "a_string = \"Hello!\"\n",
    "a_list = [\"a\", \"b\"]\n",
    "a_dict = {\"A\": 1}\n",
    "a_set = {1, 2, 3}\n",
    "def a_function(x):\n",
    "    return x\n",
    "\n",
    "print(type(a_number))\n",
    "print(type(a_string))\n",
    "print(type(a_list))\n",
    "print(type(a_dict))\n",
    "print(type(a_set))\n",
    "print(type(a_function))"
   ]
  },
  {
   "cell_type": "markdown",
   "metadata": {},
   "source": [
    "Note that each one of those outputs has the word `class`. A _class_ is the type of an object, and a blueprint for how it works.\n",
    "\n",
    "We can use `dir` to see all the methods of an object."
   ]
  },
  {
   "cell_type": "code",
   "execution_count": 5,
   "metadata": {
    "collapsed": false
   },
   "outputs": [
    {
     "data": {
      "text/plain": [
       "['__and__',\n",
       " '__class__',\n",
       " '__contains__',\n",
       " '__delattr__',\n",
       " '__dir__',\n",
       " '__doc__',\n",
       " '__eq__',\n",
       " '__format__',\n",
       " '__ge__',\n",
       " '__getattribute__',\n",
       " '__gt__',\n",
       " '__hash__',\n",
       " '__iand__',\n",
       " '__init__',\n",
       " '__ior__',\n",
       " '__isub__',\n",
       " '__iter__',\n",
       " '__ixor__',\n",
       " '__le__',\n",
       " '__len__',\n",
       " '__lt__',\n",
       " '__ne__',\n",
       " '__new__',\n",
       " '__or__',\n",
       " '__rand__',\n",
       " '__reduce__',\n",
       " '__reduce_ex__',\n",
       " '__repr__',\n",
       " '__ror__',\n",
       " '__rsub__',\n",
       " '__rxor__',\n",
       " '__setattr__',\n",
       " '__sizeof__',\n",
       " '__str__',\n",
       " '__sub__',\n",
       " '__subclasshook__',\n",
       " '__xor__',\n",
       " 'add',\n",
       " 'clear',\n",
       " 'copy',\n",
       " 'difference',\n",
       " 'difference_update',\n",
       " 'discard',\n",
       " 'intersection',\n",
       " 'intersection_update',\n",
       " 'isdisjoint',\n",
       " 'issubset',\n",
       " 'issuperset',\n",
       " 'pop',\n",
       " 'remove',\n",
       " 'symmetric_difference',\n",
       " 'symmetric_difference_update',\n",
       " 'union',\n",
       " 'update']"
      ]
     },
     "execution_count": 5,
     "metadata": {},
     "output_type": "execute_result"
    }
   ],
   "source": [
    "dir(a_set)"
   ]
  },
  {
   "cell_type": "markdown",
   "metadata": {},
   "source": [
    "All the methods with `__` in front of them are _private methods_. Nothing prevents you from calling them, but they aren't meant for public use. Most of them are called in other ways. For example, `__str__` is called when you pass an object to the `str` function."
   ]
  },
  {
   "cell_type": "markdown",
   "metadata": {},
   "source": [
    "## Creating your own classes"
   ]
  },
  {
   "cell_type": "markdown",
   "metadata": {},
   "source": [
    "We can create our own classes for use. So far, we haven't needed them. So, when do you need classes?\n",
    "\n",
    "Classes are useful because objects contain both _state_ and _behavior_. When your behavior is coupled to your state, a class can be useful.\n",
    "\n",
    "Note that **any code written with classes can be written without them**. Sometimes it's easier to go with classes, though.\n",
    "\n",
    "How do we write a class?"
   ]
  },
  {
   "cell_type": "code",
   "execution_count": null,
   "metadata": {
    "collapsed": false
   },
   "outputs": [],
   "source": [
    "# Name of object class.\n",
    "class Person:\n",
    "    \n",
    "    # Sets up the initial state of the object.\n",
    "    # Note the initial argument of _self_.\n",
    "    def __init__(self, name):\n",
    "        self.name = name\n",
    "        \n",
    "    # Adds behavior.\n",
    "    # Note the initial argument of _self_.    \n",
    "    def greet(self):\n",
    "        print(\"Hello, my name is {name}. It is nice to meet you!\".format(name=self.name))"
   ]
  },
  {
   "cell_type": "code",
   "execution_count": null,
   "metadata": {
    "collapsed": false
   },
   "outputs": [],
   "source": [
    "kendall = Person(\"Kendall\")\n",
    "kendall.greet()"
   ]
  },
  {
   "cell_type": "code",
   "execution_count": 6,
   "metadata": {
    "collapsed": false
   },
   "outputs": [],
   "source": [
    "class Clicker:\n",
    "    \"\"\"Counts up from 0 (or the initial count) every time you call .click().\"\"\"\n",
    "    \n",
    "    def __init__(self, initial_count=0):\n",
    "        self.count = initial_count\n",
    "        \n",
    "    def click(self):\n",
    "        self.count += 1"
   ]
  },
  {
   "cell_type": "code",
   "execution_count": 7,
   "metadata": {
    "collapsed": false
   },
   "outputs": [
    {
     "data": {
      "text/plain": [
       "0"
      ]
     },
     "execution_count": 7,
     "metadata": {},
     "output_type": "execute_result"
    }
   ],
   "source": [
    "clicker = Clicker()\n",
    "\n",
    "# I can get attributes out of my objects.\n",
    "clicker.count"
   ]
  },
  {
   "cell_type": "markdown",
   "metadata": {},
   "source": [
    "Note above that when I use an property, there's no parentheses.\n",
    "\n",
    "```py\n",
    "object.method()\n",
    "object.property\n",
    "```"
   ]
  },
  {
   "cell_type": "code",
   "execution_count": 8,
   "metadata": {
    "collapsed": false
   },
   "outputs": [
    {
     "data": {
      "text/plain": [
       "5"
      ]
     },
     "execution_count": 8,
     "metadata": {},
     "output_type": "execute_result"
    }
   ],
   "source": [
    "for _ in range(5):\n",
    "    clicker.click()\n",
    "    \n",
    "clicker.count"
   ]
  },
  {
   "cell_type": "markdown",
   "metadata": {},
   "source": [
    "Classes can have as many methods as you need."
   ]
  },
  {
   "cell_type": "code",
   "execution_count": 10,
   "metadata": {
    "collapsed": false
   },
   "outputs": [],
   "source": [
    "class Point:\n",
    "    \"\"\"A coordinate on a Cartesian plane.\"\"\"\n",
    "    \n",
    "    def __init__(self, x, y):\n",
    "        self.x = x\n",
    "        self.y = y\n",
    "        \n",
    "    def distance(self, other):\n",
    "        \"\"\"Calculate the distance between this point and another point.\"\"\"\n",
    "        return math.sqrt((self.x - other.x) ** 2 + (self.y - other.y) ** 2)\n",
    "    \n",
    "    def quadrant(self):\n",
    "        \"\"\"Calculates which quadrant of the Cartesian plane this point is in.\n",
    "        \n",
    "        Crude diagram:\n",
    "        \n",
    "          4  |  1\n",
    "             |\n",
    "        -----------\n",
    "             |\n",
    "          3  |  2\n",
    "          \n",
    "        For purposes of this calculation, zero counts as a positive number.\n",
    "        \"\"\"\n",
    "        if x >= 0 and y >= 0:\n",
    "            return 1\n",
    "        elif x >= 0:\n",
    "            return 2\n",
    "        elif y < 0:\n",
    "            return 3\n",
    "        else:\n",
    "            return 4\n",
    "        \n",
    "    def rotate(self, quarters=1):\n",
    "        \"\"\"Rotate the point around the center for some number of quarter turns.\"\"\"\n",
    "        if quarters is 1:\n",
    "            return Point(self.y, -self.x)\n",
    "        else:\n",
    "            return Point(self.y, -self.x).rotate(quarters - 1)\n",
    "    \n",
    "    def __str__(self):\n",
    "        \"\"\"String representation of a point.\"\"\"\n",
    "        return \"Point({}, {})\".format(self.x, self.y)\n",
    "    \n",
    "    def __repr__(self):\n",
    "        \"\"\"Representation by Python output.\"\"\"\n",
    "        return self.__str__()"
   ]
  },
  {
   "cell_type": "code",
   "execution_count": 11,
   "metadata": {
    "collapsed": false
   },
   "outputs": [],
   "source": [
    "p1 = Point(2, 3)"
   ]
  },
  {
   "cell_type": "code",
   "execution_count": 12,
   "metadata": {
    "collapsed": false
   },
   "outputs": [
    {
     "data": {
      "text/plain": [
       "Point(3, -2)"
      ]
     },
     "execution_count": 12,
     "metadata": {},
     "output_type": "execute_result"
    }
   ],
   "source": [
    "p1.rotate()"
   ]
  },
  {
   "cell_type": "code",
   "execution_count": 13,
   "metadata": {
    "collapsed": false
   },
   "outputs": [
    {
     "data": {
      "text/plain": [
       "Point(-2, -3)"
      ]
     },
     "execution_count": 13,
     "metadata": {},
     "output_type": "execute_result"
    }
   ],
   "source": [
    "p1.rotate(2)"
   ]
  },
  {
   "cell_type": "code",
   "execution_count": 14,
   "metadata": {
    "collapsed": false
   },
   "outputs": [
    {
     "data": {
      "text/plain": [
       "Point(-2, -3)"
      ]
     },
     "execution_count": 14,
     "metadata": {},
     "output_type": "execute_result"
    }
   ],
   "source": [
    "p1.rotate(10)"
   ]
  },
  {
   "cell_type": "markdown",
   "metadata": {},
   "source": [
    "Generally, classes interact with each other."
   ]
  },
  {
   "cell_type": "code",
   "execution_count": 15,
   "metadata": {
    "collapsed": false
   },
   "outputs": [],
   "source": [
    "class LineSegment:\n",
    "    def __init__(self, point1, point2):\n",
    "        self.p1 = point1\n",
    "        self.p2 = point2\n",
    "        \n",
    "    def slope(self):\n",
    "        \"\"\"Find the slope of this segment on the plane.\"\"\"\n",
    "        return (self.p1.y - self.p2.y) / (self.p1.x - self.p2.x)\n",
    "    \n",
    "    def midpoint(self):\n",
    "        \"\"\"Find the point in the middle of this segment.\"\"\"\n",
    "        x = (self.p1.x + self.p2.x) / 2\n",
    "        y = (self.p1.y + self.p2.y) / 2\n",
    "        return Point(x, y)\n",
    "    \n",
    "    def rotate(self, quarters=1):\n",
    "        \"\"\"Rotate the segment around the center for some number of quarter turns.\"\"\"\n",
    "        return LineSegment(self.p1.rotate(quarters), self.p2.rotate(quarters))\n",
    "    \n",
    "    def __repr__(self):\n",
    "        return \"LineSegment({}, {})\".format(self.p1, self.p2)\n"
   ]
  },
  {
   "cell_type": "code",
   "execution_count": 16,
   "metadata": {
    "collapsed": false
   },
   "outputs": [
    {
     "name": "stdout",
     "output_type": "stream",
     "text": [
      "LineSegment(Point(-3, 0.5), Point(2, 1))\n"
     ]
    }
   ],
   "source": [
    "seg = LineSegment(Point(-3, 0.5), Point(2, 1))\n",
    "print(seg)"
   ]
  },
  {
   "cell_type": "code",
   "execution_count": 17,
   "metadata": {
    "collapsed": false
   },
   "outputs": [
    {
     "data": {
      "text/plain": [
       "Point(-0.5, 0.75)"
      ]
     },
     "execution_count": 17,
     "metadata": {},
     "output_type": "execute_result"
    }
   ],
   "source": [
    "seg.midpoint()"
   ]
  },
  {
   "cell_type": "code",
   "execution_count": 18,
   "metadata": {
    "collapsed": false
   },
   "outputs": [
    {
     "data": {
      "text/plain": [
       "LineSegment(Point(0.5, 3), Point(1, -2))"
      ]
     },
     "execution_count": 18,
     "metadata": {},
     "output_type": "execute_result"
    }
   ],
   "source": [
    "seg.rotate()"
   ]
  },
  {
   "cell_type": "code",
   "execution_count": 19,
   "metadata": {
    "collapsed": false
   },
   "outputs": [
    {
     "data": {
      "text/plain": [
       "[<matplotlib.lines.Line2D at 0x10c781cc0>]"
      ]
     },
     "execution_count": 19,
     "metadata": {},
     "output_type": "execute_result"
    },
    {
     "data": {
      "image/png": "[encoded data removed]",
      "text/plain": [
       "<matplotlib.figure.Figure at 0x10c7250f0>"
      ]
     },
     "metadata": {},
     "output_type": "display_data"
    }
   ],
   "source": [
    "plt.axis([-4, 4, -4, 4])\n",
    "plt.plot([-5, 5], [0, 0], '--k')\n",
    "plt.plot([0, 0], [-5, 5], '--k')\n",
    "seg = seg.rotate()\n",
    "plt.plot([seg.p1.x, seg.p2.x], [seg.p1.y, seg.p2.y], '-b')\n",
    "seg = seg.rotate()\n",
    "plt.plot([seg.p1.x, seg.p2.x], [seg.p1.y, seg.p2.y], '-b')\n",
    "seg = seg.rotate()\n",
    "plt.plot([seg.p1.x, seg.p2.x], [seg.p1.y, seg.p2.y], '-b')\n",
    "seg = seg.rotate()\n",
    "plt.plot([seg.p1.x, seg.p2.x], [seg.p1.y, seg.p2.y], '-b')"
   ]
  },
  {
   "cell_type": "code",
   "execution_count": 21,
   "metadata": {
    "collapsed": true
   },
   "outputs": [],
   "source": [
    "class Point:\n",
    "    def __init__(self, x, y):\n",
    "        self.x = x\n",
    "        self.y = y\n",
    "        \n",
    "    def __repr__(self):\n",
    "        return \"Point({}, {})\".format(self.x, self.y)\n",
    "\n",
    "    def __str__(self):\n",
    "        return \"({}, {})\".format(self.x, self.y)"
   ]
  },
  {
   "cell_type": "code",
   "execution_count": 22,
   "metadata": {
    "collapsed": true
   },
   "outputs": [],
   "source": [
    "p = Point(3, 4)"
   ]
  },
  {
   "cell_type": "code",
   "execution_count": 23,
   "metadata": {
    "collapsed": false
   },
   "outputs": [
    {
     "data": {
      "text/plain": [
       "Point(3, 4)"
      ]
     },
     "execution_count": 23,
     "metadata": {},
     "output_type": "execute_result"
    }
   ],
   "source": [
    "p"
   ]
  },
  {
   "cell_type": "code",
   "execution_count": 24,
   "metadata": {
    "collapsed": false
   },
   "outputs": [
    {
     "data": {
      "text/plain": [
       "'(3, 4)'"
      ]
     },
     "execution_count": 24,
     "metadata": {},
     "output_type": "execute_result"
    }
   ],
   "source": [
    "str(p)"
   ]
  },
  {
   "cell_type": "markdown",
   "metadata": {},
   "source": [
    "## Inheritance (here be dragons)"
   ]
  },
  {
   "cell_type": "markdown",
   "metadata": {},
   "source": [
    "Inheritance lets you create _subclasses_: classes that inherit all the behavior of their parent class, but can add or override that.\n",
    "\n",
    "Inheritance is not always the right answer for objects, but every once in a while it makes sense."
   ]
  },
  {
   "cell_type": "code",
   "execution_count": 26,
   "metadata": {
    "collapsed": false
   },
   "outputs": [],
   "source": [
    "# A set of classes for planning a conference.\n",
    "\n",
    "class Attendee:\n",
    "    def __init__(self, name, email):\n",
    "        self.name = name\n",
    "        self.email = email\n",
    "        self.checked_in = False\n",
    "        \n",
    "    def badge_text(self):\n",
    "        return self.name\n",
    "    \n",
    "    def check_in(self):\n",
    "        self.checked_in = True\n",
    "        \n",
    "class Talk:\n",
    "    def __init__(self, name):\n",
    "        self.name = name\n",
    "        \n",
    "class Speaker(Attendee):\n",
    "    def __init__(self, name, email, talks):\n",
    "        super().__init__(name, email)\n",
    "        self.talks = talks\n",
    "        \n",
    "    def badge_text(self):\n",
    "        return \"\\n\".join([self.name, \"Speaker\"])\n",
    "        \n",
    "class Vendor(Attendee):\n",
    "    def __init__(self, name, email, company):\n",
    "        super().__init__(name, email)\n",
    "        self.company = company\n",
    "        \n",
    "    def badge_text(self):\n",
    "        return \"\\n\".join([self.name, self.company])"
   ]
  },
  {
   "cell_type": "markdown",
   "metadata": {},
   "source": [
    "`super()` is how we get access to the parent class's methods."
   ]
  },
  {
   "cell_type": "code",
   "execution_count": 27,
   "metadata": {
    "collapsed": false
   },
   "outputs": [],
   "source": [
    "scout = Attendee(\"Scout\", \"scout@example.org\")\n",
    "cadence = Speaker(\"Cadence\", \"cadence@example.org\", talks=[Talk(\"How to Make Objects\")])\n",
    "avery = Vendor(\"Avery\", \"avery@example.org\", company=\"Dunster\")"
   ]
  },
  {
   "cell_type": "code",
   "execution_count": 28,
   "metadata": {
    "collapsed": false
   },
   "outputs": [
    {
     "name": "stdout",
     "output_type": "stream",
     "text": [
      "Scout\n",
      "---\n",
      "Cadence\n",
      "Speaker\n",
      "---\n",
      "Avery\n",
      "Dunster\n"
     ]
    }
   ],
   "source": [
    "print(scout.badge_text())\n",
    "print(\"---\")\n",
    "print(cadence.badge_text())\n",
    "print(\"---\")\n",
    "print(avery.badge_text())"
   ]
  },
  {
   "cell_type": "code",
   "execution_count": 29,
   "metadata": {
    "collapsed": false
   },
   "outputs": [
    {
     "name": "stdout",
     "output_type": "stream",
     "text": [
      "True True True\n"
     ]
    }
   ],
   "source": [
    "scout.check_in()\n",
    "cadence.check_in()\n",
    "avery.check_in()\n",
    "print(scout.checked_in, cadence.checked_in, avery.checked_in)"
   ]
  },
  {
   "cell_type": "code",
   "execution_count": 30,
   "metadata": {
    "collapsed": false
   },
   "outputs": [
    {
     "name": "stdout",
     "output_type": "stream",
     "text": [
      "<__main__.Attendee object at 0x10c850198>\n",
      "<__main__.Speaker object at 0x10c850160>\n",
      "<__main__.Vendor object at 0x10c850208>\n"
     ]
    }
   ],
   "source": [
    "print(scout)\n",
    "print(cadence)\n",
    "print(avery)"
   ]
  },
  {
   "cell_type": "markdown",
   "metadata": {},
   "source": [
    "Multiple inheritance also exists, where you can inherit from several classes. We will not cover this until we have a compelling use case for it."
   ]
  },
  {
   "cell_type": "code",
   "execution_count": null,
   "metadata": {
    "collapsed": true
   },
   "outputs": [],
   "source": []
  }
 ],
 "metadata": {
  "kernelspec": {
   "display_name": "Python 3",
   "language": "python",
   "name": "python3"
  },
  "language_info": {
   "codemirror_mode": {
    "name": "ipython",
    "version": 3
   },
   "file_extension": ".py",
   "mimetype": "text/x-python",
   "name": "python",
   "nbconvert_exporter": "python",
   "pygments_lexer": "ipython3",
   "version": "3.4.3"
  }
 },
 "nbformat": 4,
 "nbformat_minor": 0
}
