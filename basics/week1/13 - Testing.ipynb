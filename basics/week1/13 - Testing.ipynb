{
 "cells": [
  {
   "cell_type": "markdown",
   "metadata": {},
   "source": [
    "Testing your code is an important part of development. It's useful because you can use it to verify your code does what you think it does. Even more important is that when you are making code changes later, you can ensure the changes do not break your current code.\n",
    "\n",
    "Testing is not 100% effective. It can't catch all bugs. Testing is only as good as the tests you write."
   ]
  },
  {
   "cell_type": "markdown",
   "metadata": {},
   "source": [
    "## unittest and PyTest"
   ]
  },
  {
   "cell_type": "markdown",
   "metadata": {},
   "source": [
    "Python comes with a library for running tests called \"unittest.\" You should be aware of it, as you may see it used, but we aren't going to use it in class. We're going to use [pytest](http://pytest.org/latest/index.html), a no-boilerplate alternative. To install it, run:\n",
    "\n",
    "```sh\n",
    "pip install pytest\n",
    "```\n",
    "\n",
    "This will give you a new executable, `py.test`, that will search your code for all modules that start with `test_` and run all functions that start with `test_` inside them."
   ]
  },
  {
   "cell_type": "code",
   "execution_count": 17,
   "metadata": {
    "collapsed": false
   },
   "outputs": [
    {
     "name": "stdout",
     "output_type": "stream",
     "text": [
      "Writing test_difference.py\n"
     ]
    }
   ],
   "source": [
    "%%file test_difference.py\n",
    "def difference(x, y):\n",
    "    return abs(x - y)\n",
    "\n",
    "def test_difference():\n",
    "    assert difference(2, 1) == 1\n",
    "    assert difference(1, 2) == 1"
   ]
  },
  {
   "cell_type": "code",
   "execution_count": 18,
   "metadata": {
    "collapsed": false
   },
   "outputs": [
    {
     "name": "stdout",
     "output_type": "stream",
     "text": [
      "\u001b[1m============================= test session starts ==============================\u001b[0m\r\n",
      "platform darwin -- Python 3.4.2 -- py-1.4.26 -- pytest-2.6.4\r\n",
      "\u001b[1m\r",
      "collecting 0 items\u001b[0m\u001b[1m\r",
      "collecting 1 items\u001b[0m\u001b[1m\r",
      "collected 1 items \r\n",
      "\u001b[0m\r\n",
      "test_difference.py .\r\n",
      "\r\n",
      "\u001b[1m\u001b[32m=========================== 1 passed in 0.02 seconds ===========================\u001b[0m\r\n"
     ]
    }
   ],
   "source": [
    "!py.test"
   ]
  },
  {
   "cell_type": "code",
   "execution_count": 19,
   "metadata": {
    "collapsed": false
   },
   "outputs": [
    {
     "name": "stdout",
     "output_type": "stream",
     "text": [
      "Writing test_fail.py\n"
     ]
    }
   ],
   "source": [
    "%%file test_fail.py\n",
    "def test_ok():\n",
    "    assert True == True\n",
    "    \n",
    "def test_fail():\n",
    "    assert False == True"
   ]
  },
  {
   "cell_type": "code",
   "execution_count": 20,
   "metadata": {
    "collapsed": false
   },
   "outputs": [
    {
     "name": "stdout",
     "output_type": "stream",
     "text": [
      "\u001b[1m============================= test session starts ==============================\u001b[0m\r\n",
      "platform darwin -- Python 3.4.2 -- py-1.4.26 -- pytest-2.6.4\r\n",
      "\u001b[1m\r",
      "collecting 0 items\u001b[0m\u001b[1m\r",
      "collecting 1 items\u001b[0m\u001b[1m\r",
      "collecting 3 items\u001b[0m\u001b[1m\r",
      "collected 3 items \r\n",
      "\u001b[0m\r\n",
      "test_difference.py .\r\n",
      "test_fail.py .F\r\n",
      "\r\n",
      "=================================== FAILURES ===================================\r\n",
      "__________________________________ test_fail ___________________________________\r\n",
      "\r\n",
      "\u001b[1m    def test_fail():\u001b[0m\r\n",
      "\u001b[1m>       assert False == True\u001b[0m\r\n",
      "\u001b[1m\u001b[31mE       assert False == True\u001b[0m\r\n",
      "\r\n",
      "test_fail.py:5: AssertionError\r\n",
      "\u001b[1m\u001b[31m====================== 1 failed, 2 passed in 0.03 seconds ======================\u001b[0m\r\n"
     ]
    }
   ],
   "source": [
    "!py.test"
   ]
  },
  {
   "cell_type": "markdown",
   "metadata": {},
   "source": [
    "## TDD"
   ]
  },
  {
   "cell_type": "markdown",
   "metadata": {},
   "source": [
    "__TDD__ stands for Test-Driven Development. In this style of development, you always write a test for the behavior you want before you write the code. You follow this cycle over and over:\n",
    "\n",
    "1. Write a test.\n",
    "2. Make the test pass.\n",
    "3. Refactor your code.\n",
    "\n",
    "You might hear this called __Red-Green-Refactor__.\n",
    "\n",
    "Some links:\n",
    "\n",
    "* [Tutorial on TDD with Python](http://code.tutsplus.com/tutorials/beginning-test-driven-development-in-python--net-30137)\n",
    "* [Test-Driven Development on Wikipedia](https://en.wikipedia.org/wiki/Test-driven_development)\n",
    "* [TDD on the C2 Wiki](http://c2.com/cgi/wiki?TestDrivenDevelopment)\n",
    "* [Test-Driven Development by Example](http://www.amazon.com/Test-Driven-Development-By-Example/dp/0321146530) - the bible for TDD\n"
   ]
  }
 ],
 "metadata": {
  "kernelspec": {
   "display_name": "Python 3",
   "language": "python",
   "name": "python3"
  },
  "language_info": {
   "codemirror_mode": {
    "name": "ipython",
    "version": 3
   },
   "file_extension": ".py",
   "mimetype": "text/x-python",
   "name": "python",
   "nbconvert_exporter": "python",
   "pygments_lexer": "ipython3",
   "version": "3.4.3"
  }
 },
 "nbformat": 4,
 "nbformat_minor": 0
}
