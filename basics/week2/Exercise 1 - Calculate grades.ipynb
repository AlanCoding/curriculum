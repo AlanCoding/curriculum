{
 "cells": [
  {
   "cell_type": "code",
   "execution_count": 1,
   "metadata": {
    "collapsed": true
   },
   "outputs": [],
   "source": [
    "cohort1 = {\n",
    "    'Avery': [63, 62, 41, 66, 84, 82, 73, 89, 69, 75],\n",
    "    'Blake': [79, 97, 78, 78, 74, 69, 80, 100, 74, 70],\n",
    "    'Casey': [93, 97, 99, 95, 98, 91, 96, 99, 100, 88],\n",
    "    'Dakota': [71, 65, 72, 65, 24, 100, 84, 71, 59, 50],\n",
    "    'Elliot': [84, 73, 90, 72, 69, 93, 61, 65, 81, 98],\n",
    "    'Fox': [80, 91, 90, 80, 83, 73, 84, 89, 84, 84],\n",
    "    'Gale': [41, 7, 64, 60, 78, 48, 73, 50, 69, 89]\n",
    "}"
   ]
  },
  {
   "cell_type": "markdown",
   "metadata": {},
   "source": [
    "Create functions that can take a data structure like `cohort1`.\n",
    "\n",
    "`student_means`: Return a new dictionary, with students as keys and their mean test score as the value.\n",
    "Then add an optional argument, `drop_lowest`. When true, drop each student's lowest score before calculating their mean.\n",
    "\n",
    "`student_grades`: Return a new dictionary, with students as keys and their grade as the value. Add the optional `drop_lowest` argument like in `student_means`. A is 90+, B is 80-89, C is 70-79, D is 60-69, F is below 60.\n",
    "\n",
    "`all_scores`: Return a list of all the students' test scores.\n",
    "\n",
    "`class_mean`: Return a float, the mean score for the entire class across all tests.\n",
    "\n",
    "`score_histogram`: Return a new dictionary. Each key is a letter grade (A, B, C, D, F). The value for each is all the students' test scores that fall within that grade range.\n",
    "\n",
    "### NOTE\n",
    "\n",
    "There is a hard requirement that no function have more than 7 lines of code. This will necessitate breaking up functions into other helper functions."
   ]
  }
 ],
 "metadata": {
  "kernelspec": {
   "display_name": "Python 3",
   "language": "python",
   "name": "python3"
  },
  "language_info": {
   "codemirror_mode": {
    "name": "ipython",
    "version": 3
   },
   "file_extension": ".py",
   "mimetype": "text/x-python",
   "name": "python",
   "nbconvert_exporter": "python",
   "pygments_lexer": "ipython3",
   "version": "3.4.3"
  }
 },
 "nbformat": 4,
 "nbformat_minor": 0
}
