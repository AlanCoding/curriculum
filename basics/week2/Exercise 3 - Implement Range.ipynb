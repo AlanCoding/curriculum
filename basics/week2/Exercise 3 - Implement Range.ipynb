{
 "cells": [
  {
   "cell_type": "markdown",
   "metadata": {},
   "source": [
    "# Implement Range Functions\n",
    "\n",
    "Python already includes a function you can call to retrieve a list of values in a given range.\n",
    "\n",
    "Python 2.x has `range()` and `xrange()`\n",
    "\n",
    "Python 3.x has `range()`\n",
    "\n",
    "Lets remove some of the magic behind the python language and implement our own version of this function - perhaps lets time travel back in time before the `range()` function existed.\n",
    "\n",
    "## Requirements\n",
    "\n",
    " - You can not use any existing implementation of `range` or any function that depends on it.\n",
    " - Provide two implementations of the `range` function.\n",
    " \n",
    "## Implementation 1 - Return a list\n",
    "\n",
    "Create a function named `range_list` that accepts one required parameter denoting the high boundary of our range and an optional parameter to denote the low boundary of our range.  Our function should return a list of all whole number values between the low and high boundary.  If no low boundary is provided we assume it is 0. If no arguments are passed raise an IndexError.\n",
    "\n",
    "## Implementation 2 - Return a generator\n",
    "\n",
    "Create a function named `range_generator` that adheres to all of the same criteria as your first implementation with the one difference being that it doesn't return a list - it returns a generator that will provide your values."
   ]
  },
  {
   "cell_type": "code",
   "execution_count": null,
   "metadata": {
    "collapsed": false
   },
   "outputs": [],
   "source": []
  },
  {
   "cell_type": "code",
   "execution_count": null,
   "metadata": {
    "collapsed": false
   },
   "outputs": [],
   "source": [
    "# tests - DO NOT ALTER\n",
    "\n",
    "assert range_list(5) == [0, 1, 2, 3, 4]\n",
    "assert range_list(2, 10) == [2, 3, 4, 5, 6, 7, 8, 9]\n",
    "assert range_generator(5) != [0, 1, 2, 3, 4]\n",
    "assert list(range_generator(5)) == [0, 1, 2, 3, 4]\n",
    "assert list(range_generator(2, 10)) == [2, 3, 4, 5, 6, 7, 8, 9]"
   ]
  }
 ],
 "metadata": {
  "kernelspec": {
   "display_name": "Python 3",
   "language": "python",
   "name": "python3"
  },
  "language_info": {
   "codemirror_mode": {
    "name": "ipython",
    "version": 3
   },
   "file_extension": ".py",
   "mimetype": "text/x-python",
   "name": "python",
   "nbconvert_exporter": "python",
   "pygments_lexer": "ipython3",
   "version": "3.4.3"
  }
 },
 "nbformat": 4,
 "nbformat_minor": 0
}
