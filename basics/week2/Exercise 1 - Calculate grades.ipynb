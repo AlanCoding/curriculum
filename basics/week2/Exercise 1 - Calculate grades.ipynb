{
 "cells": [
  {
   "cell_type": "code",
   "execution_count": 1,
   "metadata": {
    "collapsed": true
   },
   "outputs": [],
   "source": [
    "cohort1 = {\n",
    "    'Avery': [63, 62, 41, 66, 84, 82, 73, 89, 69, 75],\n",
    "    'Blake': [79, 97, 78, 78, 74, 69, 80, 100, 74, 70],\n",
    "    'Casey': [93, 97, 99, 95, 98, 91, 96, 99, 100, 88],\n",
    "    'Dakota': [71, 65, 72, 65, 24, 100, 84, 71, 59, 50],\n",
    "    'Elliot': [84, 73, 90, 72, 69, 93, 61, 65, 81, 98],\n",
    "    'Fox': [80, 91, 90, 80, 83, 73, 84, 89, 84, 84],\n",
    "    'Gale': [41, 7, 64, 60, 78, 48, 73, 50, 69, 89]\n",
    "}"
   ]
  },
  {
   "cell_type": "markdown",
   "metadata": {},
   "source": [
    "Create functions that can take a data structure like `cohort1`.\n",
    "\n",
    "`student_means`: Return a new dictionary, with students as keys and their mean test score as the value.\n",
    "Then add an optional argument, `drop_lowest`. When true, drop each student's lowest score before calculating their mean.\n",
    "\n",
    "`student_grades`: Return a new dictionary, with students as keys and their grade as the value. Add the optional `drop_lowest` argument like in `student_means`. A is 90+, B is 80-89, C is 70-79, D is 60-69, F is below 60.\n",
    "\n",
    "`all_scores`: Return a list of all the students' test scores.\n",
    "\n",
    "`class_mean`: Return a float, the mean score for the entire class across all tests.\n",
    "\n",
    "`score_histogram`: Return a new dictionary. Each key is a letter grade (A, B, C, D, F). The value for each is all the students' test scores that fall within that grade range.\n",
    "\n",
    "### NOTE\n",
    "\n",
    "There is a hard requirement that no function have more than 7 lines of code. This will necessitate breaking up functions into other helper functions."
   ]
  },
  {
   "cell_type": "code",
   "execution_count": 33,
   "metadata": {
    "collapsed": false
   },
   "outputs": [],
   "source": [
    "def mean(nums, drop_lowest=False):\n",
    "    if drop_lowest:\n",
    "        nums = sorted(nums)[1:]\n",
    "    return sum(nums) / len(nums)\n",
    "\n",
    "def student_means(cohort, drop_lowest=False):\n",
    "    return {student: mean(cohort[student], drop_lowest) for student in cohort}\n",
    "    # Another option\n",
    "    # return {student: mean(grades) for student, grades in cohort.items()}\n",
    "    \n",
    "def letter_grade(grade):\n",
    "    if grade >= 90: return \"A\"\n",
    "    elif grade >= 80: return \"B\"\n",
    "    elif grade >= 70: return \"C\"\n",
    "    elif grade >= 60: return \"D\"\n",
    "    else: return \"F\"\n",
    "    \n",
    "def student_grades(cohort, drop_lowest=False):\n",
    "    return {student: letter_grade(score) \n",
    "            for student, score in student_means(cohort, drop_lowest).items()}\n",
    "\n",
    "def all_scores(cohort):\n",
    "    return [score \n",
    "            for s in cohort.values() \n",
    "            for score in s]\n",
    "\n",
    "def class_mean(cohort):\n",
    "    return mean(all_scores(cohort))"
   ]
  },
  {
   "cell_type": "code",
   "execution_count": 34,
   "metadata": {
    "collapsed": false
   },
   "outputs": [
    {
     "data": {
      "text/plain": [
       "[63,\n",
       " 62,\n",
       " 41,\n",
       " 66,\n",
       " 84,\n",
       " 82,\n",
       " 73,\n",
       " 89,\n",
       " 69,\n",
       " 75,\n",
       " 84,\n",
       " 73,\n",
       " 90,\n",
       " 72,\n",
       " 69,\n",
       " 93,\n",
       " 61,\n",
       " 65,\n",
       " 81,\n",
       " 98,\n",
       " 79,\n",
       " 97,\n",
       " 78,\n",
       " 78,\n",
       " 74,\n",
       " 69,\n",
       " 80,\n",
       " 100,\n",
       " 74,\n",
       " 70,\n",
       " 71,\n",
       " 65,\n",
       " 72,\n",
       " 65,\n",
       " 24,\n",
       " 100,\n",
       " 84,\n",
       " 71,\n",
       " 59,\n",
       " 50,\n",
       " 93,\n",
       " 97,\n",
       " 99,\n",
       " 95,\n",
       " 98,\n",
       " 91,\n",
       " 96,\n",
       " 99,\n",
       " 100,\n",
       " 88,\n",
       " 80,\n",
       " 91,\n",
       " 90,\n",
       " 80,\n",
       " 83,\n",
       " 73,\n",
       " 84,\n",
       " 89,\n",
       " 84,\n",
       " 84,\n",
       " 41,\n",
       " 7,\n",
       " 64,\n",
       " 60,\n",
       " 78,\n",
       " 48,\n",
       " 73,\n",
       " 50,\n",
       " 69,\n",
       " 89]"
      ]
     },
     "execution_count": 34,
     "metadata": {},
     "output_type": "execute_result"
    }
   ],
   "source": [
    "all_scores(cohort1)"
   ]
  },
  {
   "cell_type": "code",
   "execution_count": 36,
   "metadata": {
    "collapsed": false
   },
   "outputs": [
    {
     "data": {
      "text/plain": [
       "76.04285714285714"
      ]
     },
     "execution_count": 36,
     "metadata": {},
     "output_type": "execute_result"
    }
   ],
   "source": [
    "class_mean(cohort1)"
   ]
  },
  {
   "cell_type": "code",
   "execution_count": 20,
   "metadata": {
    "collapsed": false
   },
   "outputs": [
    {
     "data": {
      "text/plain": [
       "{'Avery': 70.4,\n",
       " 'Blake': 79.9,\n",
       " 'Casey': 95.6,\n",
       " 'Dakota': 66.1,\n",
       " 'Elliot': 78.6,\n",
       " 'Fox': 83.8,\n",
       " 'Gale': 57.9}"
      ]
     },
     "execution_count": 20,
     "metadata": {},
     "output_type": "execute_result"
    }
   ],
   "source": [
    "student_means(cohort1)"
   ]
  },
  {
   "cell_type": "code",
   "execution_count": 21,
   "metadata": {
    "collapsed": false
   },
   "outputs": [
    {
     "data": {
      "text/plain": [
       "{'Avery': 73.66666666666667,\n",
       " 'Blake': 81.11111111111111,\n",
       " 'Casey': 96.44444444444444,\n",
       " 'Dakota': 70.77777777777777,\n",
       " 'Elliot': 80.55555555555556,\n",
       " 'Fox': 85.0,\n",
       " 'Gale': 63.55555555555556}"
      ]
     },
     "execution_count": 21,
     "metadata": {},
     "output_type": "execute_result"
    }
   ],
   "source": [
    "student_means(cohort1, drop_lowest=True)"
   ]
  },
  {
   "cell_type": "code",
   "execution_count": 22,
   "metadata": {
    "collapsed": false
   },
   "outputs": [
    {
     "data": {
      "text/plain": [
       "{'Bailey': 85.0}"
      ]
     },
     "execution_count": 22,
     "metadata": {},
     "output_type": "execute_result"
    }
   ],
   "source": [
    "student_means({\"Bailey\": [90, 80, 80]}, drop_lowest=True)"
   ]
  },
  {
   "cell_type": "code",
   "execution_count": 23,
   "metadata": {
    "collapsed": false
   },
   "outputs": [
    {
     "data": {
      "text/plain": [
       "{'Avery': 'C',\n",
       " 'Blake': 'C',\n",
       " 'Casey': 'A',\n",
       " 'Dakota': 'D',\n",
       " 'Elliot': 'C',\n",
       " 'Fox': 'B',\n",
       " 'Gale': 'F'}"
      ]
     },
     "execution_count": 23,
     "metadata": {},
     "output_type": "execute_result"
    }
   ],
   "source": [
    "student_grades(cohort1)"
   ]
  },
  {
   "cell_type": "code",
   "execution_count": 24,
   "metadata": {
    "collapsed": false
   },
   "outputs": [
    {
     "data": {
      "text/plain": [
       "{'Avery': 'C',\n",
       " 'Blake': 'B',\n",
       " 'Casey': 'A',\n",
       " 'Dakota': 'C',\n",
       " 'Elliot': 'B',\n",
       " 'Fox': 'B',\n",
       " 'Gale': 'D'}"
      ]
     },
     "execution_count": 24,
     "metadata": {},
     "output_type": "execute_result"
    }
   ],
   "source": [
    "student_grades(cohort1, drop_lowest=True)"
   ]
  },
  {
   "cell_type": "code",
   "execution_count": null,
   "metadata": {
    "collapsed": true
   },
   "outputs": [],
   "source": []
  }
 ],
 "metadata": {
  "kernelspec": {
   "display_name": "Python 3",
   "language": "python",
   "name": "python3"
  },
  "language_info": {
   "codemirror_mode": {
    "name": "ipython",
    "version": 3
   },
   "file_extension": ".py",
   "mimetype": "text/x-python",
   "name": "python",
   "nbconvert_exporter": "python",
   "pygments_lexer": "ipython3",
   "version": "3.4.3"
  }
 },
 "nbformat": 4,
 "nbformat_minor": 0
}
