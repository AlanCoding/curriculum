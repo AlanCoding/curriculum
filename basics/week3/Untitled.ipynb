{
 "cells": [
  {
   "cell_type": "code",
   "execution_count": 15,
   "metadata": {
    "collapsed": true
   },
   "outputs": [],
   "source": [
    "import random\n",
    "import matplotlib.pyplot as plt\n",
    "\n",
    "def flip():\n",
    "    \"\"\"Tails = 0, heads = 1\"\"\"\n",
    "    if random.random() > 0.5:\n",
    "        return 0\n",
    "    else:\n",
    "        return 1"
   ]
  },
  {
   "cell_type": "code",
   "execution_count": 2,
   "metadata": {
    "collapsed": true
   },
   "outputs": [],
   "source": [
    "%matplotlib inline"
   ]
  },
  {
   "cell_type": "code",
   "execution_count": 42,
   "metadata": {
    "collapsed": true
   },
   "outputs": [],
   "source": [
    "def n_flips(n=2**16):\n",
    "    heads = 0\n",
    "    results = []\n",
    "    e = 0\n",
    "    for i in range(1, n+1):\n",
    "        heads += flip()\n",
    "        if i == 2 ** e:\n",
    "            results.append((heads, i))\n",
    "            e += 1\n",
    "    return results"
   ]
  },
  {
   "cell_type": "code",
   "execution_count": 53,
   "metadata": {
    "collapsed": true
   },
   "outputs": [],
   "source": [
    "def n_flips2(n=2**16):\n",
    "    heads = 0\n",
    "    results = []\n",
    "    for i in range(1, n+1):\n",
    "        heads += flip()\n",
    "    return (heads, n)"
   ]
  },
  {
   "cell_type": "code",
   "execution_count": 64,
   "metadata": {
    "collapsed": true
   },
   "outputs": [],
   "source": [
    "def n_flips3(n=16):\n",
    "    flips = [flip() for _ in range(2**n)]\n",
    "    results = [(sum(flips[:2**i]), 2**i) for i in range(0, n+1)]\n",
    "    return results\n",
    "        "
   ]
  },
  {
   "cell_type": "code",
   "execution_count": 65,
   "metadata": {
    "collapsed": false
   },
   "outputs": [
    {
     "data": {
      "text/plain": [
       "[(1, 1),\n",
       " (1, 2),\n",
       " (1, 4),\n",
       " (2, 8),\n",
       " (6, 16),\n",
       " (12, 32),\n",
       " (27, 64),\n",
       " (58, 128),\n",
       " (123, 256),\n",
       " (255, 512),\n",
       " (532, 1024),\n",
       " (1023, 2048),\n",
       " (2016, 4096),\n",
       " (4088, 8192),\n",
       " (8118, 16384),\n",
       " (16287, 32768),\n",
       " (32577, 65536)]"
      ]
     },
     "execution_count": 65,
     "metadata": {},
     "output_type": "execute_result"
    }
   ],
   "source": [
    "n_flips3()"
   ]
  },
  {
   "cell_type": "code",
   "execution_count": 61,
   "metadata": {
    "collapsed": false
   },
   "outputs": [
    {
     "data": {
      "text/plain": [
       "[(1, 1),\n",
       " (0, 2),\n",
       " (1, 4),\n",
       " (1, 8),\n",
       " (8, 16),\n",
       " (20, 32),\n",
       " (25, 64),\n",
       " (66, 128),\n",
       " (131, 256),\n",
       " (264, 512),\n",
       " (511, 1024),\n",
       " (991, 2048),\n",
       " (2070, 4096),\n",
       " (4102, 8192),\n",
       " (8205, 16384),\n",
       " (16315, 32768),\n",
       " (32747, 65536)]"
      ]
     },
     "execution_count": 61,
     "metadata": {},
     "output_type": "execute_result"
    }
   ],
   "source": [
    "[n_flips2(2**n) for n in range(0, 17)]"
   ]
  },
  {
   "cell_type": "code",
   "execution_count": 22,
   "metadata": {
    "collapsed": true
   },
   "outputs": [],
   "source": [
    "differences = [heads - (total - heads) for heads, total in n_flips(2**16)]"
   ]
  },
  {
   "cell_type": "code",
   "execution_count": 23,
   "metadata": {
    "collapsed": false
   },
   "outputs": [],
   "source": [
    "x_vals = [2 ** x for x in range(17)]"
   ]
  },
  {
   "cell_type": "code",
   "execution_count": 24,
   "metadata": {
    "collapsed": false
   },
   "outputs": [
    {
     "data": {
      "text/plain": [
       "[<matplotlib.lines.Line2D at 0x1056d7588>]"
      ]
     },
     "execution_count": 24,
     "metadata": {},
     "output_type": "execute_result"
    },
    {
     "data": {
      "image/png": "[encoded data removed]",
      "text/plain": [
       "<matplotlib.figure.Figure at 0x10552ee10>"
      ]
     },
     "metadata": {},
     "output_type": "display_data"
    }
   ],
   "source": [
    "plt.plot(x_vals, differences)"
   ]
  },
  {
   "cell_type": "code",
   "execution_count": 26,
   "metadata": {
    "collapsed": false
   },
   "outputs": [
    {
     "data": {
      "image/png": "[encoded data removed]",
      "text/plain": [
       "<matplotlib.figure.Figure at 0x1058c4ac8>"
      ]
     },
     "metadata": {},
     "output_type": "display_data"
    }
   ],
   "source": [
    "plt.plot(x_vals, differences)\n",
    "plt.xscale('log', basex=2)"
   ]
  },
  {
   "cell_type": "code",
   "execution_count": 29,
   "metadata": {
    "collapsed": true
   },
   "outputs": [],
   "source": [
    "def simulations(num_of_sims=20):\n",
    "    results = []\n",
    "    for _ in range(20):\n",
    "        results.append(n_flips())\n",
    "    return results"
   ]
  },
  {
   "cell_type": "code",
   "execution_count": 32,
   "metadata": {
    "collapsed": false
   },
   "outputs": [],
   "source": [
    "sim_results = simulations()"
   ]
  },
  {
   "cell_type": "code",
   "execution_count": 31,
   "metadata": {
    "collapsed": true
   },
   "outputs": [],
   "source": [
    "def ratio(heads, total):\n",
    "    tails = total - heads\n",
    "    if tails == 0:\n",
    "        return 0\n",
    "    else:\n",
    "        return heads / tails"
   ]
  },
  {
   "cell_type": "code",
   "execution_count": 33,
   "metadata": {
    "collapsed": false
   },
   "outputs": [
    {
     "data": {
      "text/plain": [
       "[0,\n",
       " 1.0,\n",
       " 1.0,\n",
       " 1.6666666666666667,\n",
       " 1.0,\n",
       " 0.8823529411764706,\n",
       " 1.1333333333333333,\n",
       " 1.2456140350877194,\n",
       " 1.1694915254237288,\n",
       " 1.1787234042553192,\n",
       " 1.1422594142259415,\n",
       " 1.098360655737705,\n",
       " 1.0823589222165735,\n",
       " 1.0152521525215252,\n",
       " 1.024465587544792,\n",
       " 1.0132710739739494,\n",
       " 1.0217176702862785]"
      ]
     },
     "execution_count": 33,
     "metadata": {},
     "output_type": "execute_result"
    }
   ],
   "source": [
    "[ratio(heads, tails) for heads, tails in sim_results[0]]"
   ]
  },
  {
   "cell_type": "code",
   "execution_count": null,
   "metadata": {
    "collapsed": true
   },
   "outputs": [],
   "source": []
  }
 ],
 "metadata": {
  "kernelspec": {
   "display_name": "Python 3",
   "language": "python",
   "name": "python3"
  },
  "language_info": {
   "codemirror_mode": {
    "name": "ipython",
    "version": 3
   },
   "file_extension": ".py",
   "mimetype": "text/x-python",
   "name": "python",
   "nbconvert_exporter": "python",
   "pygments_lexer": "ipython3",
   "version": "3.4.3"
  }
 },
 "nbformat": 4,
 "nbformat_minor": 0
}
